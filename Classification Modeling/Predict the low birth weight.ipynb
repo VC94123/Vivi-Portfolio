{
 "cells": [
  {
   "cell_type": "markdown",
   "id": "faf17702",
   "metadata": {},
   "source": [
    "<h2>Analysis Introduction</h2><br>\n",
    "Within the field of mother and child health, birthweight is a crucial indicator of newborn health and well-being. As a public health consultant, my responsibility goes beyond simple analysis into the predictive domains of machine learning and computational analytics. The complex relationships between birthweight and a variety of acquired and preventative factors are more than just statistical puzzles; they are the strands in the fabric of life, each holding the key to preventing the negative consequences that can arise from low birthweight.I feel a great deal of responsibility as I set out on this analytical journey because I know that the results of my work could be the difference between life and death, not just numbers and graphs. This analysis is a lifeline and a proactive attack on the silent tragedy of low birthweight in newborns around the world. "
   ]
  },
  {
   "cell_type": "code",
   "execution_count": 1,
   "id": "f1888a86",
   "metadata": {},
   "outputs": [
    {
     "name": "stdout",
     "output_type": "stream",
     "text": [
      "Requirement already satisfied: phik in /Users/vivi/anaconda3/lib/python3.11/site-packages (0.12.4)\n",
      "Requirement already satisfied: numpy>=1.18.0 in /Users/vivi/anaconda3/lib/python3.11/site-packages (from phik) (1.24.3)\n",
      "Requirement already satisfied: scipy>=1.5.2 in /Users/vivi/anaconda3/lib/python3.11/site-packages (from phik) (1.11.1)\n",
      "Requirement already satisfied: pandas>=0.25.1 in /Users/vivi/anaconda3/lib/python3.11/site-packages (from phik) (2.0.3)\n",
      "Requirement already satisfied: matplotlib>=2.2.3 in /Users/vivi/anaconda3/lib/python3.11/site-packages (from phik) (3.7.2)\n",
      "Requirement already satisfied: joblib>=0.14.1 in /Users/vivi/anaconda3/lib/python3.11/site-packages (from phik) (1.2.0)\n",
      "Requirement already satisfied: contourpy>=1.0.1 in /Users/vivi/anaconda3/lib/python3.11/site-packages (from matplotlib>=2.2.3->phik) (1.0.5)\n",
      "Requirement already satisfied: cycler>=0.10 in /Users/vivi/anaconda3/lib/python3.11/site-packages (from matplotlib>=2.2.3->phik) (0.11.0)\n",
      "Requirement already satisfied: fonttools>=4.22.0 in /Users/vivi/anaconda3/lib/python3.11/site-packages (from matplotlib>=2.2.3->phik) (4.25.0)\n",
      "Requirement already satisfied: kiwisolver>=1.0.1 in /Users/vivi/anaconda3/lib/python3.11/site-packages (from matplotlib>=2.2.3->phik) (1.4.4)\n",
      "Requirement already satisfied: packaging>=20.0 in /Users/vivi/anaconda3/lib/python3.11/site-packages (from matplotlib>=2.2.3->phik) (23.1)\n",
      "Requirement already satisfied: pillow>=6.2.0 in /Users/vivi/anaconda3/lib/python3.11/site-packages (from matplotlib>=2.2.3->phik) (10.0.1)\n",
      "Requirement already satisfied: pyparsing<3.1,>=2.3.1 in /Users/vivi/anaconda3/lib/python3.11/site-packages (from matplotlib>=2.2.3->phik) (3.0.9)\n",
      "Requirement already satisfied: python-dateutil>=2.7 in /Users/vivi/anaconda3/lib/python3.11/site-packages (from matplotlib>=2.2.3->phik) (2.8.2)\n",
      "Requirement already satisfied: pytz>=2020.1 in /Users/vivi/anaconda3/lib/python3.11/site-packages (from pandas>=0.25.1->phik) (2023.3.post1)\n",
      "Requirement already satisfied: tzdata>=2022.1 in /Users/vivi/anaconda3/lib/python3.11/site-packages (from pandas>=0.25.1->phik) (2023.3)\n",
      "Requirement already satisfied: six>=1.5 in /Users/vivi/anaconda3/lib/python3.11/site-packages (from python-dateutil>=2.7->matplotlib>=2.2.3->phik) (1.16.0)\n",
      "Note: you may need to restart the kernel to use updated packages.\n"
     ]
    }
   ],
   "source": [
    "# installing phik (phi coefficient)\n",
    "%pip install phik    "
   ]
  },
  {
   "cell_type": "code",
   "execution_count": 2,
   "id": "7ef73eb9",
   "metadata": {},
   "outputs": [],
   "source": [
    "########################################\n",
    "# importing packages\n",
    "########################################\n",
    "\n",
    "# essentials\n",
    "import matplotlib.pyplot as plt # data visualization\n",
    "import pandas            as pd  # data science essentials\n",
    "import numpy             as np  # mathematical essentials\n",
    "import seaborn as sns                 # enhanced graphical output\n",
    "\n",
    "# model preparation\n",
    "from sklearn.preprocessing import StandardScaler       # standard scaler\n",
    "from sklearn.model_selection import train_test_split   # train-test split\n",
    "from sklearn.model_selection import RandomizedSearchCV # hp tuning\n",
    "\n",
    "\n",
    "# model results\n",
    "from sklearn.metrics import roc_auc_score              # auc score\n",
    "from sklearn.metrics import make_scorer                # customizable scorer\n",
    "from sklearn.metrics import confusion_matrix           # confusion matrix\n",
    "\n",
    "\n",
    "# machine learning\n",
    "from sklearn.ensemble import RandomForestClassifier     # random forest\n",
    "from sklearn.ensemble import GradientBoostingClassifier # gbm\n",
    "from sklearn.linear_model import RidgeClassifier\n",
    "import statsmodels.formula.api as smf # logistic regression\n",
    "import sklearn.linear_model           # logistic regression\n",
    "\n",
    "\n",
    "# preprocessing and testing\n",
    "from sklearn.preprocessing import power_transform    # yeo-johnson\n",
    "from sklearn.preprocessing import StandardScaler     # standard scaler\n",
    "from sklearn.model_selection import train_test_split # train-test split\n",
    "from sklearn.metrics import (confusion_matrix,\n",
    "                             roc_auc_score, precision_score, recall_score)\n",
    "\n",
    "import phik \n",
    "\n",
    "# supress warnings (be careful while using this)\n",
    "import warnings\n",
    "warnings.filterwarnings('ignore')\n",
    "\n",
    "########################################\n",
    "# import data and setting display options\n",
    "########################################\n",
    "## importing data ##\n",
    "\n",
    "# reading modeling data into Python\n",
    "modeling_data = '/Users/vivi/Desktop/Introduction to Machine Learning & AI/birthweight.xlsx'\n",
    "\n",
    "# calling this df_train\n",
    "df_train = pd.read_excel(io         = modeling_data,\n",
    "                         sheet_name = 'data',\n",
    "                         header     = 0,\n",
    "                         index_col  = 'bwt_id')\n",
    "\n",
    "# reading testing data into Python\n",
    "testing_data = '/Users/vivi/Desktop/Introduction to Machine Learning & AI/test.xlsx'\n",
    "\n",
    "# calling this df_test\n",
    "df_test = pd.read_excel(io         = testing_data,\n",
    "                        sheet_name = 'data',\n",
    "                        header     = 0,\n",
    "                        index_col  = 'bwt_id')\n"
   ]
  },
  {
   "cell_type": "code",
   "execution_count": 3,
   "id": "6f60fb12",
   "metadata": {},
   "outputs": [
    {
     "data": {
      "text/html": [
       "<div>\n",
       "<style scoped>\n",
       "    .dataframe tbody tr th:only-of-type {\n",
       "        vertical-align: middle;\n",
       "    }\n",
       "\n",
       "    .dataframe tbody tr th {\n",
       "        vertical-align: top;\n",
       "    }\n",
       "\n",
       "    .dataframe thead th {\n",
       "        text-align: right;\n",
       "    }\n",
       "</style>\n",
       "<table border=\"1\" class=\"dataframe\">\n",
       "  <thead>\n",
       "    <tr style=\"text-align: right;\">\n",
       "      <th></th>\n",
       "      <th>mage</th>\n",
       "      <th>meduc</th>\n",
       "      <th>monpre</th>\n",
       "      <th>npvis</th>\n",
       "      <th>fage</th>\n",
       "      <th>feduc</th>\n",
       "      <th>omaps</th>\n",
       "      <th>fmaps</th>\n",
       "      <th>cigs</th>\n",
       "      <th>drink</th>\n",
       "      <th>male</th>\n",
       "      <th>mwhte</th>\n",
       "      <th>mblck</th>\n",
       "      <th>moth</th>\n",
       "      <th>fwhte</th>\n",
       "      <th>fblck</th>\n",
       "      <th>foth</th>\n",
       "      <th>bwght</th>\n",
       "      <th>set</th>\n",
       "    </tr>\n",
       "    <tr>\n",
       "      <th>bwt_id</th>\n",
       "      <th></th>\n",
       "      <th></th>\n",
       "      <th></th>\n",
       "      <th></th>\n",
       "      <th></th>\n",
       "      <th></th>\n",
       "      <th></th>\n",
       "      <th></th>\n",
       "      <th></th>\n",
       "      <th></th>\n",
       "      <th></th>\n",
       "      <th></th>\n",
       "      <th></th>\n",
       "      <th></th>\n",
       "      <th></th>\n",
       "      <th></th>\n",
       "      <th></th>\n",
       "      <th></th>\n",
       "      <th></th>\n",
       "    </tr>\n",
       "  </thead>\n",
       "  <tbody>\n",
       "    <tr>\n",
       "      <th>bwt_1</th>\n",
       "      <td>28</td>\n",
       "      <td>12.0</td>\n",
       "      <td>2</td>\n",
       "      <td>10.0</td>\n",
       "      <td>31.0</td>\n",
       "      <td>17.0</td>\n",
       "      <td>8.0</td>\n",
       "      <td>9.0</td>\n",
       "      <td>0.0</td>\n",
       "      <td>0.0</td>\n",
       "      <td>0</td>\n",
       "      <td>1</td>\n",
       "      <td>0</td>\n",
       "      <td>0</td>\n",
       "      <td>1</td>\n",
       "      <td>0</td>\n",
       "      <td>0</td>\n",
       "      <td>3317.0</td>\n",
       "      <td>Not Kaggle</td>\n",
       "    </tr>\n",
       "    <tr>\n",
       "      <th>bwt_2</th>\n",
       "      <td>21</td>\n",
       "      <td>NaN</td>\n",
       "      <td>1</td>\n",
       "      <td>6.0</td>\n",
       "      <td>21.0</td>\n",
       "      <td>NaN</td>\n",
       "      <td>8.0</td>\n",
       "      <td>9.0</td>\n",
       "      <td>NaN</td>\n",
       "      <td>NaN</td>\n",
       "      <td>0</td>\n",
       "      <td>1</td>\n",
       "      <td>0</td>\n",
       "      <td>0</td>\n",
       "      <td>1</td>\n",
       "      <td>0</td>\n",
       "      <td>0</td>\n",
       "      <td>1160.0</td>\n",
       "      <td>Not Kaggle</td>\n",
       "    </tr>\n",
       "    <tr>\n",
       "      <th>bwt_3</th>\n",
       "      <td>27</td>\n",
       "      <td>15.0</td>\n",
       "      <td>2</td>\n",
       "      <td>11.0</td>\n",
       "      <td>32.0</td>\n",
       "      <td>16.0</td>\n",
       "      <td>9.0</td>\n",
       "      <td>9.0</td>\n",
       "      <td>0.0</td>\n",
       "      <td>0.0</td>\n",
       "      <td>1</td>\n",
       "      <td>1</td>\n",
       "      <td>0</td>\n",
       "      <td>0</td>\n",
       "      <td>1</td>\n",
       "      <td>0</td>\n",
       "      <td>0</td>\n",
       "      <td>4706.0</td>\n",
       "      <td>Not Kaggle</td>\n",
       "    </tr>\n",
       "    <tr>\n",
       "      <th>bwt_4</th>\n",
       "      <td>33</td>\n",
       "      <td>17.0</td>\n",
       "      <td>1</td>\n",
       "      <td>20.0</td>\n",
       "      <td>39.0</td>\n",
       "      <td>17.0</td>\n",
       "      <td>9.0</td>\n",
       "      <td>10.0</td>\n",
       "      <td>0.0</td>\n",
       "      <td>0.0</td>\n",
       "      <td>0</td>\n",
       "      <td>0</td>\n",
       "      <td>0</td>\n",
       "      <td>1</td>\n",
       "      <td>0</td>\n",
       "      <td>0</td>\n",
       "      <td>1</td>\n",
       "      <td>3289.0</td>\n",
       "      <td>Not Kaggle</td>\n",
       "    </tr>\n",
       "    <tr>\n",
       "      <th>bwt_5</th>\n",
       "      <td>30</td>\n",
       "      <td>15.0</td>\n",
       "      <td>2</td>\n",
       "      <td>12.0</td>\n",
       "      <td>36.0</td>\n",
       "      <td>16.0</td>\n",
       "      <td>9.0</td>\n",
       "      <td>9.0</td>\n",
       "      <td>NaN</td>\n",
       "      <td>NaN</td>\n",
       "      <td>1</td>\n",
       "      <td>1</td>\n",
       "      <td>0</td>\n",
       "      <td>0</td>\n",
       "      <td>1</td>\n",
       "      <td>0</td>\n",
       "      <td>0</td>\n",
       "      <td>3490.0</td>\n",
       "      <td>Not Kaggle</td>\n",
       "    </tr>\n",
       "  </tbody>\n",
       "</table>\n",
       "</div>"
      ],
      "text/plain": [
       "        mage  meduc  monpre  npvis  fage  feduc  omaps  fmaps  cigs  drink  \\\n",
       "bwt_id                                                                       \n",
       "bwt_1     28   12.0       2   10.0  31.0   17.0    8.0    9.0   0.0    0.0   \n",
       "bwt_2     21    NaN       1    6.0  21.0    NaN    8.0    9.0   NaN    NaN   \n",
       "bwt_3     27   15.0       2   11.0  32.0   16.0    9.0    9.0   0.0    0.0   \n",
       "bwt_4     33   17.0       1   20.0  39.0   17.0    9.0   10.0   0.0    0.0   \n",
       "bwt_5     30   15.0       2   12.0  36.0   16.0    9.0    9.0   NaN    NaN   \n",
       "\n",
       "        male  mwhte  mblck  moth  fwhte  fblck  foth   bwght         set  \n",
       "bwt_id                                                                    \n",
       "bwt_1      0      1      0     0      1      0     0  3317.0  Not Kaggle  \n",
       "bwt_2      0      1      0     0      1      0     0  1160.0  Not Kaggle  \n",
       "bwt_3      1      1      0     0      1      0     0  4706.0  Not Kaggle  \n",
       "bwt_4      0      0      0     1      0      0     1  3289.0  Not Kaggle  \n",
       "bwt_5      1      1      0     0      1      0     0  3490.0  Not Kaggle  "
      ]
     },
     "execution_count": 3,
     "metadata": {},
     "output_type": "execute_result"
    }
   ],
   "source": [
    "# concatenating datasets together for mv analysis and feature engineering\n",
    "df_train['set'] = 'Not Kaggle'\n",
    "df_test ['set'] = 'Kaggle'\n",
    "\n",
    "\n",
    "# concatenating both datasets together for mv and feature engineering\n",
    "df_full = pd.concat(objs = [df_train, df_test],\n",
    "                    axis = 0,\n",
    "                    ignore_index = False)\n",
    "\n",
    "df_full_sorted = df_full.sort_index()\n",
    "\n",
    "# checking data\n",
    "df_full.head(n = 5)"
   ]
  },
  {
   "cell_type": "code",
   "execution_count": 4,
   "id": "a64b45e3",
   "metadata": {},
   "outputs": [
    {
     "data": {
      "text/html": [
       "<div>\n",
       "<style scoped>\n",
       "    .dataframe tbody tr th:only-of-type {\n",
       "        vertical-align: middle;\n",
       "    }\n",
       "\n",
       "    .dataframe tbody tr th {\n",
       "        vertical-align: top;\n",
       "    }\n",
       "\n",
       "    .dataframe thead th {\n",
       "        text-align: right;\n",
       "    }\n",
       "</style>\n",
       "<table border=\"1\" class=\"dataframe\">\n",
       "  <thead>\n",
       "    <tr style=\"text-align: right;\">\n",
       "      <th></th>\n",
       "      <th>mage</th>\n",
       "      <th>meduc</th>\n",
       "      <th>monpre</th>\n",
       "      <th>npvis</th>\n",
       "      <th>fage</th>\n",
       "      <th>feduc</th>\n",
       "      <th>omaps</th>\n",
       "      <th>fmaps</th>\n",
       "      <th>cigs</th>\n",
       "      <th>drink</th>\n",
       "      <th>male</th>\n",
       "      <th>mwhte</th>\n",
       "      <th>mblck</th>\n",
       "      <th>moth</th>\n",
       "      <th>fwhte</th>\n",
       "      <th>fblck</th>\n",
       "      <th>foth</th>\n",
       "      <th>bwght</th>\n",
       "    </tr>\n",
       "  </thead>\n",
       "  <tbody>\n",
       "    <tr>\n",
       "      <th>count</th>\n",
       "      <td>473.000000</td>\n",
       "      <td>467.000000</td>\n",
       "      <td>473.000000</td>\n",
       "      <td>452.000000</td>\n",
       "      <td>472.000000</td>\n",
       "      <td>463.000000</td>\n",
       "      <td>471.000000</td>\n",
       "      <td>471.000000</td>\n",
       "      <td>440.000000</td>\n",
       "      <td>441.000000</td>\n",
       "      <td>473.000000</td>\n",
       "      <td>473.000000</td>\n",
       "      <td>473.000000</td>\n",
       "      <td>473.000000</td>\n",
       "      <td>473.000000</td>\n",
       "      <td>473.000000</td>\n",
       "      <td>473.000000</td>\n",
       "      <td>409.000000</td>\n",
       "    </tr>\n",
       "    <tr>\n",
       "      <th>mean</th>\n",
       "      <td>29.784355</td>\n",
       "      <td>13.680942</td>\n",
       "      <td>2.205074</td>\n",
       "      <td>11.535398</td>\n",
       "      <td>32.169492</td>\n",
       "      <td>13.866091</td>\n",
       "      <td>8.225053</td>\n",
       "      <td>8.951168</td>\n",
       "      <td>1.172727</td>\n",
       "      <td>0.020408</td>\n",
       "      <td>0.505285</td>\n",
       "      <td>0.871036</td>\n",
       "      <td>0.073996</td>\n",
       "      <td>0.054968</td>\n",
       "      <td>0.877378</td>\n",
       "      <td>0.073996</td>\n",
       "      <td>0.048626</td>\n",
       "      <td>3189.870416</td>\n",
       "    </tr>\n",
       "    <tr>\n",
       "      <th>std</th>\n",
       "      <td>5.105664</td>\n",
       "      <td>2.136672</td>\n",
       "      <td>1.330149</td>\n",
       "      <td>3.924575</td>\n",
       "      <td>6.097656</td>\n",
       "      <td>2.222327</td>\n",
       "      <td>1.368447</td>\n",
       "      <td>0.575893</td>\n",
       "      <td>4.211621</td>\n",
       "      <td>0.297017</td>\n",
       "      <td>0.500501</td>\n",
       "      <td>0.335515</td>\n",
       "      <td>0.262041</td>\n",
       "      <td>0.228160</td>\n",
       "      <td>0.328350</td>\n",
       "      <td>0.262041</td>\n",
       "      <td>0.215312</td>\n",
       "      <td>748.450059</td>\n",
       "    </tr>\n",
       "    <tr>\n",
       "      <th>min</th>\n",
       "      <td>16.000000</td>\n",
       "      <td>3.000000</td>\n",
       "      <td>0.000000</td>\n",
       "      <td>0.000000</td>\n",
       "      <td>18.000000</td>\n",
       "      <td>6.000000</td>\n",
       "      <td>1.000000</td>\n",
       "      <td>5.000000</td>\n",
       "      <td>0.000000</td>\n",
       "      <td>0.000000</td>\n",
       "      <td>0.000000</td>\n",
       "      <td>0.000000</td>\n",
       "      <td>0.000000</td>\n",
       "      <td>0.000000</td>\n",
       "      <td>0.000000</td>\n",
       "      <td>0.000000</td>\n",
       "      <td>0.000000</td>\n",
       "      <td>360.000000</td>\n",
       "    </tr>\n",
       "    <tr>\n",
       "      <th>25%</th>\n",
       "      <td>26.000000</td>\n",
       "      <td>12.000000</td>\n",
       "      <td>1.000000</td>\n",
       "      <td>10.000000</td>\n",
       "      <td>28.000000</td>\n",
       "      <td>12.000000</td>\n",
       "      <td>8.000000</td>\n",
       "      <td>9.000000</td>\n",
       "      <td>0.000000</td>\n",
       "      <td>0.000000</td>\n",
       "      <td>0.000000</td>\n",
       "      <td>1.000000</td>\n",
       "      <td>0.000000</td>\n",
       "      <td>0.000000</td>\n",
       "      <td>1.000000</td>\n",
       "      <td>0.000000</td>\n",
       "      <td>0.000000</td>\n",
       "      <td>2780.000000</td>\n",
       "    </tr>\n",
       "    <tr>\n",
       "      <th>50%</th>\n",
       "      <td>30.000000</td>\n",
       "      <td>13.000000</td>\n",
       "      <td>2.000000</td>\n",
       "      <td>12.000000</td>\n",
       "      <td>32.000000</td>\n",
       "      <td>14.000000</td>\n",
       "      <td>9.000000</td>\n",
       "      <td>9.000000</td>\n",
       "      <td>0.000000</td>\n",
       "      <td>0.000000</td>\n",
       "      <td>1.000000</td>\n",
       "      <td>1.000000</td>\n",
       "      <td>0.000000</td>\n",
       "      <td>0.000000</td>\n",
       "      <td>1.000000</td>\n",
       "      <td>0.000000</td>\n",
       "      <td>0.000000</td>\n",
       "      <td>3340.000000</td>\n",
       "    </tr>\n",
       "    <tr>\n",
       "      <th>75%</th>\n",
       "      <td>33.000000</td>\n",
       "      <td>16.000000</td>\n",
       "      <td>3.000000</td>\n",
       "      <td>13.000000</td>\n",
       "      <td>36.000000</td>\n",
       "      <td>16.000000</td>\n",
       "      <td>9.000000</td>\n",
       "      <td>9.000000</td>\n",
       "      <td>0.000000</td>\n",
       "      <td>0.000000</td>\n",
       "      <td>1.000000</td>\n",
       "      <td>1.000000</td>\n",
       "      <td>0.000000</td>\n",
       "      <td>0.000000</td>\n",
       "      <td>1.000000</td>\n",
       "      <td>0.000000</td>\n",
       "      <td>0.000000</td>\n",
       "      <td>3686.000000</td>\n",
       "    </tr>\n",
       "    <tr>\n",
       "      <th>max</th>\n",
       "      <td>44.000000</td>\n",
       "      <td>17.000000</td>\n",
       "      <td>8.000000</td>\n",
       "      <td>36.000000</td>\n",
       "      <td>62.000000</td>\n",
       "      <td>17.000000</td>\n",
       "      <td>10.000000</td>\n",
       "      <td>10.000000</td>\n",
       "      <td>30.000000</td>\n",
       "      <td>6.000000</td>\n",
       "      <td>1.000000</td>\n",
       "      <td>1.000000</td>\n",
       "      <td>1.000000</td>\n",
       "      <td>1.000000</td>\n",
       "      <td>1.000000</td>\n",
       "      <td>1.000000</td>\n",
       "      <td>1.000000</td>\n",
       "      <td>5089.000000</td>\n",
       "    </tr>\n",
       "  </tbody>\n",
       "</table>\n",
       "</div>"
      ],
      "text/plain": [
       "             mage       meduc      monpre       npvis        fage       feduc  \\\n",
       "count  473.000000  467.000000  473.000000  452.000000  472.000000  463.000000   \n",
       "mean    29.784355   13.680942    2.205074   11.535398   32.169492   13.866091   \n",
       "std      5.105664    2.136672    1.330149    3.924575    6.097656    2.222327   \n",
       "min     16.000000    3.000000    0.000000    0.000000   18.000000    6.000000   \n",
       "25%     26.000000   12.000000    1.000000   10.000000   28.000000   12.000000   \n",
       "50%     30.000000   13.000000    2.000000   12.000000   32.000000   14.000000   \n",
       "75%     33.000000   16.000000    3.000000   13.000000   36.000000   16.000000   \n",
       "max     44.000000   17.000000    8.000000   36.000000   62.000000   17.000000   \n",
       "\n",
       "            omaps       fmaps        cigs       drink        male       mwhte  \\\n",
       "count  471.000000  471.000000  440.000000  441.000000  473.000000  473.000000   \n",
       "mean     8.225053    8.951168    1.172727    0.020408    0.505285    0.871036   \n",
       "std      1.368447    0.575893    4.211621    0.297017    0.500501    0.335515   \n",
       "min      1.000000    5.000000    0.000000    0.000000    0.000000    0.000000   \n",
       "25%      8.000000    9.000000    0.000000    0.000000    0.000000    1.000000   \n",
       "50%      9.000000    9.000000    0.000000    0.000000    1.000000    1.000000   \n",
       "75%      9.000000    9.000000    0.000000    0.000000    1.000000    1.000000   \n",
       "max     10.000000   10.000000   30.000000    6.000000    1.000000    1.000000   \n",
       "\n",
       "            mblck        moth       fwhte       fblck        foth        bwght  \n",
       "count  473.000000  473.000000  473.000000  473.000000  473.000000   409.000000  \n",
       "mean     0.073996    0.054968    0.877378    0.073996    0.048626  3189.870416  \n",
       "std      0.262041    0.228160    0.328350    0.262041    0.215312   748.450059  \n",
       "min      0.000000    0.000000    0.000000    0.000000    0.000000   360.000000  \n",
       "25%      0.000000    0.000000    1.000000    0.000000    0.000000  2780.000000  \n",
       "50%      0.000000    0.000000    1.000000    0.000000    0.000000  3340.000000  \n",
       "75%      0.000000    0.000000    1.000000    0.000000    0.000000  3686.000000  \n",
       "max      1.000000    1.000000    1.000000    1.000000    1.000000  5089.000000  "
      ]
     },
     "execution_count": 4,
     "metadata": {},
     "output_type": "execute_result"
    }
   ],
   "source": [
    "# descriptive statistics\n",
    "df_full.describe()"
   ]
  },
  {
   "cell_type": "markdown",
   "id": "662c2000",
   "metadata": {},
   "source": [
    "These descriptive data offer an overview of the different factors that could affect a population's birth weight. Mothers have completed some education beyond high school on average, as seen by the mean maternal age (mage) of approximately 29.78 years and the mean maternal education (meduc) of roughly 13.68 years. With a mean of 2.2 and an average of 11.54 prenatal visits (npvis), prenatal care typically begins around the second month of pregnancy (monpre). These figures indicate a comparatively high degree of prenatal care involvement. Fathers appear to be slightly older than mothers, based on the mean paternal age (fage), which is approximately 32 years. Newborns are considered healthy when their average Apgar scores (omaps for one minute and fmaps for five minutes) are above 8. Pregnancy-related rates of drinking and smoking are low, which is good for the health of the unborn child. The average birth weight (BWHT) is approximately 3189.87 grams, falling within a healthy range; however, this figure may vary depending on the previously listed circumstances."
   ]
  },
  {
   "cell_type": "code",
   "execution_count": 5,
   "id": "dbc3a324",
   "metadata": {},
   "outputs": [
    {
     "name": "stdout",
     "output_type": "stream",
     "text": [
      "        Missing Count  Missing Percentage\n",
      "mage                0            0.000000\n",
      "meduc               6            0.012685\n",
      "monpre              0            0.000000\n",
      "npvis              21            0.044397\n",
      "fage                1            0.002114\n",
      "feduc              10            0.021142\n",
      "omaps               2            0.004228\n",
      "fmaps               2            0.004228\n",
      "cigs               33            0.069767\n",
      "drink              32            0.067653\n",
      "male                0            0.000000\n",
      "mwhte               0            0.000000\n",
      "mblck               0            0.000000\n",
      "moth                0            0.000000\n",
      "fwhte               0            0.000000\n",
      "fblck               0            0.000000\n",
      "foth                0            0.000000\n",
      "bwght              64            0.135307\n",
      "set                 0            0.000000\n"
     ]
    }
   ],
   "source": [
    "# Missing value \n",
    "# checking each feature for missing values\n",
    "missing_counts = df_full.isnull().sum(axis=0)\n",
    "missing_percentages = df_full.isnull().mean(axis=0)\n",
    "missing_info = pd.DataFrame({'Missing Count': missing_counts, \n",
    "                             'Missing Percentage': missing_percentages})\n",
    "print(missing_info)"
   ]
  },
  {
   "cell_type": "markdown",
   "id": "09b24ec0",
   "metadata": {},
   "source": [
    "The missing data in a dataset that was used to analyze birth weight is summarized in this table. The completeness of data collection is demonstrated by the absence of missing values for several variables, including the sex of the infant (male), the month prenatal care began (monpre), and the mother's age (mage). Nonetheless, there are clear deficiencies in the number of prenatal visits (npvis) at 4.44%, maternal education (meduc) at approximately 12.69%, and birth weight (bwght) at 13.53%. In roughly 6.97% of instances, information on alcohol use (drink) and cigarette use (cigs) during pregnancy is absent. These missing values may have an effect on how birth weight-related parameters are analyzed and interpreted."
   ]
  },
  {
   "cell_type": "code",
   "execution_count": 6,
   "id": "29d67abd",
   "metadata": {},
   "outputs": [
    {
     "data": {
      "image/png": "[encoded data removed]",
      "text/plain": [
       "<Figure size 1500x2400 with 18 Axes>"
      ]
     },
     "metadata": {},
     "output_type": "display_data"
    }
   ],
   "source": [
    "# Set up the number of rows and columns for the subplots based on the number of numeric columns in the DataFrame\n",
    "num_cols = df_full.select_dtypes(include=np.number).columns.size\n",
    "num_rows = (num_cols + 2) // 3\n",
    "\n",
    "# Specify the size of the overall figure\n",
    "plt.figure(figsize=(15, num_rows * 4))\n",
    "\n",
    "# Loop through numeric columns for histogram plotting\n",
    "# 'enumerate' adds a counter to an iterable for use in a loop (starts at 1 here).\n",
    "for i, column in enumerate(df_full.select_dtypes(include=np.number).columns, 1):\n",
    "    plt.subplot(num_rows, 3, i)\n",
    "    # Check for missing values and get their count in the column\n",
    "    missing = df_full[column].isnull().sum()\n",
    "    if missing > 0:\n",
    "        # If missing values exist in the column, use a distinct color\n",
    "        sns.histplot(df_full[column], kde=True, color='orange', label=f'Missing Values: {missing}')\n",
    "    else:\n",
    "        # If there are no missing values, use the default color\n",
    "        sns.histplot(df_full[column], kde=True, label='No Missing Values')\n",
    "    plt.title(f'Distribution of {column}')\n",
    "    plt.legend()\n",
    "\n",
    "# Adjust the spacing between the plots for clarity\n",
    "plt.tight_layout()\n",
    "plt.show()"
   ]
  },
  {
   "cell_type": "markdown",
   "id": "043b5a29",
   "metadata": {},
   "source": [
    "The offered graphics show histograms with different distributions of birthweight-related parameters, such as prenatal visits, timing of prenatal care, and maternal and father ages, each indicated by the presence or absence of missing values. Understanding the data's range and any outliers is essential for identifying potential birthweight-influencing variables. These graphics provide this information.A notable peak can be seen in the 'npvis' (number of prenatal visits) histogram in the range of 10 to 15 visits, which may represent a standard procedure or suggestion for prenatal visits. It also contains a significant quantity of missing data, though, which may have an impact on analyses regarding the effect of prenatal care on birthweight.\n",
    "The distribution of \"cigs,\" or the mother's average daily cigarette consumption, is skewed and peaks at zero, indicating that most moms said they did not smoke while pregnant. The lengthy tail towards the higher values, however, suggests that some moms reported higher intake, which raises the possibility of a lower birthweight.The multi-modal distributions displayed by the 'feduc' (father's education in years) and'meduc' (mother's education in years) histograms suggest that the parents in the dataset have similar educational backgrounds.\n",
    "Birthweight in grams, or \"bwght,\" exhibits a nearly normal distribution with a significant proportion of missing values, which is important because birthweight is the result of interest. The distribution is focused around the 3000-gram mark."
   ]
  },
  {
   "cell_type": "code",
   "execution_count": 7,
   "id": "8af381ff",
   "metadata": {},
   "outputs": [
    {
     "name": "stdout",
     "output_type": "stream",
     "text": [
      "         Mode  Median         Mean\n",
      "meduc    12.0    13.0    13.680942\n",
      "npvis    12.0    12.0    11.535398\n",
      "fage     31.0    32.0    32.169492\n",
      "feduc    12.0    14.0    13.866091\n",
      "omaps     9.0     9.0     8.225053\n",
      "fmaps     9.0     9.0     8.951168\n",
      "cigs      0.0     0.0     1.172727\n",
      "drink     0.0     0.0     0.020408\n",
      "bwght  3345.0  3340.0  3189.870416\n"
     ]
    }
   ],
   "source": [
    "# Find columns with missing values\n",
    "cols_with_na = df_full.columns[df_full.isnull().any()]\n",
    "\n",
    "# Calculate mode, median, and mean for these columns\n",
    "mode_values = df_full[cols_with_na].mode().iloc[0]\n",
    "median_values = df_full[cols_with_na].median()\n",
    "mean_values = df_full[cols_with_na].mean()\n",
    "\n",
    "# Create a summary DataFrame\n",
    "summary_df = pd.DataFrame({\n",
    "    'Mode': mode_values,\n",
    "    'Median': median_values,\n",
    "    'Mean': mean_values\n",
    "})\n",
    "\n",
    "# Print the summary DataFrame\n",
    "print(summary_df)"
   ]
  },
  {
   "cell_type": "code",
   "execution_count": 8,
   "id": "d3d3bf76",
   "metadata": {},
   "outputs": [
    {
     "data": {
      "text/plain": [
       "mage       0\n",
       "meduc      0\n",
       "monpre     0\n",
       "npvis      0\n",
       "fage       0\n",
       "feduc      0\n",
       "omaps      0\n",
       "fmaps      0\n",
       "cigs       0\n",
       "drink      0\n",
       "male       0\n",
       "mwhte      0\n",
       "mblck      0\n",
       "moth       0\n",
       "fwhte      0\n",
       "fblck      0\n",
       "foth       0\n",
       "bwght     64\n",
       "set        0\n",
       "dtype: int64"
      ]
     },
     "execution_count": 8,
     "metadata": {},
     "output_type": "execute_result"
    }
   ],
   "source": [
    "# imputing missing values\n",
    "df_full['meduc'] = df_full['meduc'].fillna(value=df_full['meduc'].mode()[0])\n",
    "df_full['npvis'] = df_full['npvis'].fillna(value=df_full['npvis'].mode()[0])\n",
    "df_full['fage'] = df_full['fage'].fillna(value=df_full['fage'].mode()[0])\n",
    "df_full['feduc'] = df_full['feduc'].fillna(value=df_full['feduc'].mode()[0])\n",
    "df_full['omaps'] = df_full['omaps'].fillna(value=df_full['omaps'].mode()[0])\n",
    "df_full['fmaps'] = df_full['fmaps'].fillna(value=df_full['fmaps'].mode()[0])\n",
    "df_full['cigs'] = df_full['cigs'].fillna(value= 0)\n",
    "df_full['drink'] = df_full['drink'].fillna(value= 0)\n",
    "\n",
    "# checking results\n",
    "df_full.isnull().sum(axis=0)"
   ]
  },
  {
   "cell_type": "code",
   "execution_count": 9,
   "id": "b152ca58",
   "metadata": {},
   "outputs": [
    {
     "name": "stdout",
     "output_type": "stream",
     "text": [
      "Correlation of Birthweight with other columns:\n",
      "mage      0.0546\n",
      "meduc     0.0003\n",
      "monpre    0.0551\n",
      "npvis     0.1805\n",
      "fage      0.1392\n",
      "feduc     0.0619\n",
      "omaps     0.3825\n",
      "fmaps     0.3687\n",
      "cigs     -0.0297\n",
      "drink    -0.0255\n",
      "male      0.0611\n",
      "mwhte     0.0154\n",
      "mblck     0.0230\n",
      "moth     -0.0494\n",
      "fwhte     0.0168\n",
      "fblck     0.0418\n",
      "foth     -0.0746\n",
      "bwght     1.0000\n",
      "Name: bwght, dtype: float64\n"
     ]
    }
   ],
   "source": [
    "# Select only the numeric columns for correlation\n",
    "df_numeric = df_full.select_dtypes(include=[np.number])\n",
    "\n",
    "# Calculate the Pearson correlation matrix and round it to 4 decimal places\n",
    "birth_corr = df_numeric.corr(method='pearson').round(decimals=4)\n",
    "\n",
    "# Correlation of Birthweight with other columns\n",
    "print(\"Correlation of Birthweight with other columns:\")\n",
    "print(birth_corr.loc['bwght'])"
   ]
  },
  {
   "cell_type": "markdown",
   "id": "3597a54d",
   "metadata": {},
   "source": [
    "1.Are there any strong positive or strong negative linear (Pearson) correlations with birthweight? Answer this question based on the original, continuous form of birthweight.\n",
    "\n",
    "There were no exceptionally strong linear connections between birthweight and the Pearson correlation analysis. Strong correlations usually have absolute values over 0.5 or below -0.5. One-minute Apgar scores (omaps) and five-minute Apgar scores (fmaps) showed somewhat positive relationships with birthweight (0.3825 and 0.3687, respectively). greater scores often imply healthier newborns with possibly greater birthweights. These scores evaluate a newborn's health immediately after birth. \n",
    "The number of prenatal visits (npvis) had a moderate positive correlation of 0.1805 with birthweight, suggesting that regular medical check-ups during pregnancy may be linked to higher birthweights. The father's age (fage) showed a slight positive correlation, and negative behaviors like smoking (cigs) and drinking (drink) during pregnancy had slight negative correlations with birthweight, as expected due to their known risks."
   ]
  },
  {
   "cell_type": "code",
   "execution_count": 10,
   "id": "1f1fe2d8",
   "metadata": {},
   "outputs": [],
   "source": [
    "# low_bwght\n",
    "df_full['low_bwght'] = (df_full['bwght'] < 2500).astype(int)"
   ]
  },
  {
   "cell_type": "markdown",
   "id": "68aac29a",
   "metadata": {},
   "source": [
    "2.Is there an official threshold that signifies when birthweight gets more dangerous? In other words, is there a cutoff point between a healthy birthweight and a non-healthy birthweight? Provide credible sources as necessary.\n",
    "\n",
    "A low birth weight is defined by the World Health Organization as less than 2,500 grams (5.5 pounds)(World Health Organization, 2023). The threshold point is a crucial marker for identifying newborns who could experience major health issues. Low birth weight is associated with a number of unfavorable health outcomes, including heightened vulnerability to infection, issues in gaining weight, and developmental delays. Long-term health problems, such as chronic illnesses later in life, are also linked to it. Low birth weight is still a global public health concern, despite being more common in developing nations. This emphasizes the need for sufficient services for the care of mothers and babies.(Default - Stanford Children’s Health, n.d.)"
   ]
  },
  {
   "cell_type": "markdown",
   "id": "fd5d91ea",
   "metadata": {},
   "source": [
    "<h2><strong>Feature Engineering <strong>"
   ]
  },
  {
   "cell_type": "code",
   "execution_count": 11,
   "id": "afd0451e",
   "metadata": {},
   "outputs": [],
   "source": [
    "# fage_group & mage_group\n",
    "\n",
    "df_full['fage_group'] = pd.cut(df_full['fage'], bins=[0, 20, 30, 40, np.inf], labels=['<20', '20-30', '30-40', '40plus'])\n",
    "# Create one hot encoded variables for the 'fage_group' feature\n",
    "fage_group_dummies = pd.get_dummies(df_full['fage_group'], prefix='fage_group').astype(int)\n",
    "\n",
    "# Join the one hot encoded variables back to the df_full dataframe\n",
    "df_full = df_full.join(fage_group_dummies)"
   ]
  },
  {
   "cell_type": "code",
   "execution_count": 12,
   "id": "ae623dc1",
   "metadata": {},
   "outputs": [],
   "source": [
    "df_full['mage_group'] = pd.cut(df_full['mage'], bins=[0, 20, 30, 40, np.inf], labels=['<20', '20-30', '30-40', '40plus'])\n",
    "# Create one hot encoded variables for the 'mage_group' feature\n",
    "mage_group_dummies = pd.get_dummies(df_full['mage_group'], prefix='mage_group').astype(int)\n",
    "\n",
    "# Join the one hot encoded variables back to the df_full dataframe\n",
    "df_full = df_full.join(mage_group_dummies)"
   ]
  },
  {
   "cell_type": "markdown",
   "id": "c635b739",
   "metadata": {},
   "source": [
    "This divides the father's age and the mother's age into groups, from which binary variables are derived for each group. Combining continuous variables into groups can help to simplify the model and show nonlinear interactions with the target variable.(Reichman & Teitler, 2006)"
   ]
  },
  {
   "cell_type": "code",
   "execution_count": 13,
   "id": "96a38caf",
   "metadata": {},
   "outputs": [],
   "source": [
    "# parents_education_avg\n",
    "df_full['parents_education_avg'] = (df_full['meduc'] + df_full['feduc']) / 2"
   ]
  },
  {
   "cell_type": "markdown",
   "id": "495c7457",
   "metadata": {},
   "source": [
    "This averages the education level of the parents, postulating that the overall educational environment of the child, influenced by both parents, might have a combined effect on birthweight.This may suggest that the parents' educational attainment influences their prenatal care knowledge and practices, which in turn influences the baby's birthweight. Enhancing health awareness and education among potential parents may therefore be essential to improve neonatal health outcomes. (Sema et al., 2019)"
   ]
  },
  {
   "cell_type": "code",
   "execution_count": 14,
   "id": "4dae66a9",
   "metadata": {},
   "outputs": [],
   "source": [
    "# mage_cigs_interaction\n",
    "df_full['mage_cigs_interaction'] = df_full['mage'] * df_full['cigs']"
   ]
  },
  {
   "cell_type": "markdown",
   "id": "74747095",
   "metadata": {},
   "source": [
    "This creates an interaction term between the mother's age and cigarette usage, hypothesizing that the combined effect of these variables on birthweight may be different from their individual effects. For instance, the negative impact of smoking on birthweight might increase with the mother's age."
   ]
  },
  {
   "cell_type": "code",
   "execution_count": 15,
   "id": "6eb95e7f",
   "metadata": {},
   "outputs": [],
   "source": [
    "#smokes,drinks,smoke_and_drink\n",
    "df_full['smokes'] = (df_full['cigs'] > 0).astype(int)\n",
    "df_full['drinks'] = (df_full['drink'] > 0).astype(int)"
   ]
  },
  {
   "cell_type": "code",
   "execution_count": 16,
   "id": "93683dfc",
   "metadata": {},
   "outputs": [],
   "source": [
    "df_full['smoke_and_drink'] = df_full['smokes'] + df_full['drinks']"
   ]
  },
  {
   "cell_type": "markdown",
   "id": "8b3e4437",
   "metadata": {},
   "source": [
    "Based on the notion that any level of smoking or drinking may have an impact on the health of the unborn child, these are binary indicators that show whether the mother smokes or drinks.By combining the two earlier variables, this hypothesis raises the possibility that drinking and smoking together could have a substantial impact.(Di et al., 2022)"
   ]
  },
  {
   "cell_type": "code",
   "execution_count": 17,
   "id": "fc3b548c",
   "metadata": {},
   "outputs": [
    {
     "data": {
      "text/plain": [
       "Index(['mage', 'meduc', 'monpre', 'npvis', 'fage', 'feduc', 'cigs', 'drink',\n",
       "       'male', 'mwhte', 'mblck', 'moth', 'fwhte', 'fblck', 'foth', 'bwght',\n",
       "       'set', 'low_bwght', 'fage_group_<20', 'fage_group_20-30',\n",
       "       'fage_group_30-40', 'fage_group_40plus', 'mage_group_<20',\n",
       "       'mage_group_20-30', 'mage_group_30-40', 'mage_group_40plus',\n",
       "       'parents_education_avg', 'mage_cigs_interaction', 'smokes', 'drinks',\n",
       "       'smoke_and_drink'],\n",
       "      dtype='object')"
      ]
     },
     "execution_count": 17,
     "metadata": {},
     "output_type": "execute_result"
    }
   ],
   "source": [
    "# dropping features after encoding\n",
    "df_full = df_full.drop(['mage_group','fage_group','omaps', 'fmaps'], axis = 1)\n",
    "\n",
    "\n",
    "# checking results\n",
    "df_full.columns"
   ]
  },
  {
   "cell_type": "code",
   "execution_count": 18,
   "id": "8e4446e2",
   "metadata": {},
   "outputs": [
    {
     "name": "stdout",
     "output_type": "stream",
     "text": [
      "<class 'pandas.core.frame.DataFrame'>\n",
      "Index: 473 entries, bwt_1 to bwt_468\n",
      "Data columns (total 31 columns):\n",
      " #   Column                 Non-Null Count  Dtype  \n",
      "---  ------                 --------------  -----  \n",
      " 0   mage                   473 non-null    int64  \n",
      " 1   meduc                  473 non-null    float64\n",
      " 2   monpre                 473 non-null    int64  \n",
      " 3   npvis                  473 non-null    float64\n",
      " 4   fage                   473 non-null    float64\n",
      " 5   feduc                  473 non-null    float64\n",
      " 6   cigs                   473 non-null    float64\n",
      " 7   drink                  473 non-null    float64\n",
      " 8   male                   473 non-null    int64  \n",
      " 9   mwhte                  473 non-null    int64  \n",
      " 10  mblck                  473 non-null    int64  \n",
      " 11  moth                   473 non-null    int64  \n",
      " 12  fwhte                  473 non-null    int64  \n",
      " 13  fblck                  473 non-null    int64  \n",
      " 14  foth                   473 non-null    int64  \n",
      " 15  bwght                  409 non-null    float64\n",
      " 16  set                    473 non-null    object \n",
      " 17  low_bwght              473 non-null    int64  \n",
      " 18  fage_group_<20         473 non-null    int64  \n",
      " 19  fage_group_20-30       473 non-null    int64  \n",
      " 20  fage_group_30-40       473 non-null    int64  \n",
      " 21  fage_group_40plus      473 non-null    int64  \n",
      " 22  mage_group_<20         473 non-null    int64  \n",
      " 23  mage_group_20-30       473 non-null    int64  \n",
      " 24  mage_group_30-40       473 non-null    int64  \n",
      " 25  mage_group_40plus      473 non-null    int64  \n",
      " 26  parents_education_avg  473 non-null    float64\n",
      " 27  mage_cigs_interaction  473 non-null    float64\n",
      " 28  smokes                 473 non-null    int64  \n",
      " 29  drinks                 473 non-null    int64  \n",
      " 30  smoke_and_drink        473 non-null    int64  \n",
      "dtypes: float64(9), int64(21), object(1)\n",
      "memory usage: 134.4+ KB\n"
     ]
    }
   ],
   "source": [
    "df_full.info()"
   ]
  },
  {
   "cell_type": "code",
   "execution_count": 19,
   "id": "dd52cd7d",
   "metadata": {},
   "outputs": [],
   "source": [
    "########################################\n",
    "# standard_scaler\n",
    "########################################\n",
    "def standard_scaler(df):\n",
    "    \"\"\"\n",
    "    Standardizes a dataset (mean = 0, variance = 1). Returns a new DataFrame.\n",
    "    Requires sklearn.preprocessing.StandardScaler()\n",
    "    \n",
    "    PARAMETERS\n",
    "    ----------\n",
    "    df     | DataFrame to be used for scaling\n",
    "    \"\"\"\n",
    "\n",
    "    # INSTANTIATING a StandardScaler() object\n",
    "    scaler = StandardScaler(copy = True)\n",
    "\n",
    "\n",
    "    # FITTING the scaler with the data\n",
    "    scaler.fit(df)\n",
    "\n",
    "\n",
    "    # TRANSFORMING our data after fit\n",
    "    x_scaled = scaler.transform(df)\n",
    "\n",
    "    \n",
    "    # converting scaled data into a DataFrame\n",
    "    new_df = pd.DataFrame(x_scaled)\n",
    "\n",
    "\n",
    "    # reattaching column names\n",
    "    new_df.columns = list(df.columns)\n",
    "    \n",
    "    return new_df\n",
    "\n",
    "\n",
    "########################################\n",
    "# plot_feature_importances\n",
    "########################################\n",
    "def plot_feature_importances(model, train, export = False):\n",
    "    \"\"\"\n",
    "    Plots the importance of features from a CART model.\n",
    "    \n",
    "    PARAMETERS\n",
    "    ----------\n",
    "    model  : CART model\n",
    "    train  : explanatory variable training data\n",
    "    export : whether or not to export as a .png image, default False\n",
    "    \"\"\"\n",
    "    \n",
    "    # number of features to plot\n",
    "    n_features = train.shape[1]\n",
    "    \n",
    "    # setting plot window\n",
    "    fig, ax = plt.subplots(figsize=(12,9))\n",
    "    \n",
    "    plt.barh(range(n_features), model.feature_importances_, align='center')\n",
    "    plt.yticks(np.arange(n_features), train.columns)\n",
    "    plt.xlabel(\"Feature importance\")\n",
    "    plt.ylabel(\"Feature\")\n",
    "    \n",
    "    if export == True:\n",
    "        plt.savefig('./analysis_images/Feature_Importance.png')\n"
   ]
  },
  {
   "cell_type": "code",
   "execution_count": 20,
   "id": "1ef526ae",
   "metadata": {},
   "outputs": [
    {
     "name": "stdout",
     "output_type": "stream",
     "text": [
      "\n",
      "Point-Biserial Correlations\n",
      "---------------------------\n",
      "low_bwght                1.0000\n",
      "mage_cigs_interaction    0.0496\n",
      "cigs                     0.0495\n",
      "meduc                    0.0218\n",
      "parents_education_avg    0.0031\n",
      "drink                   -0.0103\n",
      "feduc                   -0.0156\n",
      "mage                    -0.0351\n",
      "monpre                  -0.0527\n",
      "fage                    -0.0800\n",
      "npvis                   -0.1199\n",
      "Name: low_bwght, dtype: float64\n",
      "\n",
      "\n",
      "Phi Coefficients\n",
      "----------------\n",
      "low_bwght            1.0000\n",
      "mage_group_<20       0.0501\n",
      "fage_group_40plus    0.0457\n",
      "mwhte                0.0181\n",
      "fage_group_30-40     0.0000\n",
      "drinks               0.0000\n",
      "smokes               0.0000\n",
      "mage_group_40plus    0.0000\n",
      "mage_group_30-40     0.0000\n",
      "mage_group_20-30     0.0000\n",
      "fage_group_20-30     0.0000\n",
      "male                 0.0000\n",
      "fage_group_<20       0.0000\n",
      "foth                 0.0000\n",
      "fblck                0.0000\n",
      "fwhte                0.0000\n",
      "moth                 0.0000\n",
      "mblck                0.0000\n",
      "smoke_and_drink      0.0000\n",
      "Name: low_bwght, dtype: float64\n",
      "\n"
     ]
    }
   ],
   "source": [
    "# creating feature sets\n",
    "continuous     = ['low_bwght', 'mage', 'meduc','monpre','npvis','fage','feduc','cigs','drink','mage_cigs_interaction','parents_education_avg']\n",
    "\n",
    "non_continuous = ['low_bwght', 'male', 'mwhte', 'mblck', 'moth', 'fwhte', 'fblck',\n",
    "                   'foth','fage_group_<20','fage_group_20-30', 'fage_group_30-40', 'fage_group_40plus',\n",
    "                   'mage_group_<20', 'mage_group_20-30', 'mage_group_30-40','mage_group_40plus',\n",
    "                   'smokes', 'drinks', 'smoke_and_drink']\n",
    "\n",
    "\n",
    "# pearson correlation\n",
    "df_full_corr = df_full[ continuous ].corr(method = 'pearson').round(decimals = 4)\n",
    "\n",
    "\n",
    "# phi coefficient\n",
    "df_full_phi_corr = df_full[ non_continuous ].phik_matrix(interval_cols = non_continuous).round(decimals = 4)\n",
    "\n",
    "\n",
    "# checking results\n",
    "print(f\"\"\"\n",
    "Point-Biserial Correlations\n",
    "---------------------------\n",
    "{df_full_corr.loc[ : , 'low_bwght'].sort_values(ascending = False)}\n",
    "\n",
    "\n",
    "Phi Coefficients\n",
    "----------------\n",
    "{df_full_phi_corr.loc[ : , 'low_bwght' ].sort_values(ascending = False)}\n",
    "\"\"\")"
   ]
  },
  {
   "cell_type": "markdown",
   "id": "089da171",
   "metadata": {},
   "source": [
    "3.After transforming birthweight (bwght) using this threshold, did correlations and/or phi coefficients improve? Why or why not? \n",
    "\n",
    "The point-biserial correlations reveal a somewhat positive association with the interaction between mother's age and smoking (mage_cigs_interaction) at 0.0496 after birthweight is converted into a binary variable (low birthweight). There are no significant relationships at all or very weak correlations for other factors. With regard to the phi coefficients, age groupings (mage_group_<20 and fage_group_40plus) show the highest correlations.\n",
    "\"Improvement\" in this sense refers to whether the relationships' significance and strength have grown. There are no clearer correlations for the point-biserial correlations, with the exception of the smoking interaction. Age groups exhibit stronger connections with low birthweight with the phi coefficients. This may be because birthweight has gone through a binary transformation that emphasizes correlations with certain risk variables, such as age and smoking habits."
   ]
  },
  {
   "cell_type": "code",
   "execution_count": 21,
   "id": "b791aa7b",
   "metadata": {},
   "outputs": [
    {
     "name": "stdout",
     "output_type": "stream",
     "text": [
      "mage                     -0.01\n",
      "meduc                    -0.38\n",
      "monpre                    2.12\n",
      "npvis                     1.38\n",
      "fage                      0.65\n",
      "feduc                    -0.42\n",
      "cigs                      4.10\n",
      "drink                    19.55\n",
      "male                     -0.02\n",
      "mwhte                    -2.22\n",
      "mblck                     3.27\n",
      "moth                      3.92\n",
      "fwhte                    -2.31\n",
      "fblck                     3.27\n",
      "foth                      4.21\n",
      "bwght                    -0.82\n",
      "low_bwght                 1.77\n",
      "fage_group_<20            6.68\n",
      "fage_group_20-30          0.50\n",
      "fage_group_30-40         -0.04\n",
      "fage_group_40plus         2.86\n",
      "mage_group_<20            5.17\n",
      "mage_group_20-30         -0.13\n",
      "mage_group_30-40          0.31\n",
      "mage_group_40plus         9.60\n",
      "parents_education_avg    -0.40\n",
      "mage_cigs_interaction     4.34\n",
      "smokes                    2.95\n",
      "drinks                   10.77\n",
      "smoke_and_drink           3.37\n",
      "dtype: float64\n"
     ]
    }
   ],
   "source": [
    "df_numeric = df_full.select_dtypes(include=[np.number])\n",
    "\n",
    "# calculate & round skewness\n",
    "numeric_skew = df_numeric.skew().round(decimals=2)\n",
    "\n",
    "# print\n",
    "print(numeric_skew)"
   ]
  },
  {
   "cell_type": "code",
   "execution_count": 22,
   "id": "55477c0a",
   "metadata": {},
   "outputs": [],
   "source": [
    "## parsing out testing data (needed for later) ##\n",
    "\n",
    "# dataset for kaggle\n",
    "kaggle_data = df_full[ df_full['set'] == 'Kaggle' ].copy()\n",
    "\n",
    "\n",
    "# dataset for model building\n",
    "df = df_full[ df_full['set'] == 'Not Kaggle' ].copy()\n",
    "\n",
    "\n",
    "# dropping set identifier (kaggle)\n",
    "kaggle_data.drop(labels = 'set',\n",
    "                 axis = 1,\n",
    "                 inplace = True)\n",
    "\n",
    "\n",
    "# dropping set identifier (model building)\n",
    "df.drop(labels = 'set',\n",
    "        axis = 1,\n",
    "        inplace = True)"
   ]
  },
  {
   "cell_type": "code",
   "execution_count": 23,
   "id": "5cd5bf87",
   "metadata": {},
   "outputs": [],
   "source": [
    "# train/test split with the full model\n",
    "bwght_data   = df[['mage', 'meduc', 'monpre', 'npvis', 'fage', 'feduc', 'cigs', 'drink',\n",
    "                  'male', 'mwhte', 'mblck', 'moth', 'fwhte', 'fblck', 'foth','mage_cigs_interaction', \n",
    "                  'fage_group_<20','fage_group_20-30', 'fage_group_30-40', 'fage_group_40plus',\n",
    "                  'mage_group_<20', 'mage_group_20-30', 'mage_group_30-40',\n",
    "                  'mage_group_40plus', 'parents_education_avg', 'smokes',\n",
    "                  'drinks', 'smoke_and_drink']]\n",
    "bwght_target = df['low_bwght']"
   ]
  },
  {
   "cell_type": "code",
   "execution_count": 24,
   "id": "d4c20dae",
   "metadata": {},
   "outputs": [],
   "source": [
    "x_train, x_test, y_train, y_test = train_test_split(\n",
    "            bwght_data,\n",
    "            bwght_target,\n",
    "            test_size    = 0.25,\n",
    "            random_state = 219,\n",
    "            stratify     = bwght_target) # preserving balance\n",
    "\n",
    "\n",
    "# merging training data for statsmodels\n",
    "bwght_train  = pd.concat([x_train, y_train], axis = 1)"
   ]
  },
  {
   "cell_type": "code",
   "execution_count": 25,
   "id": "428fc933",
   "metadata": {},
   "outputs": [
    {
     "name": "stdout",
     "output_type": "stream",
     "text": [
      "\n",
      "\n",
      "Response Variable Proportions (Training Set)\n",
      "--------------------------------------------\n",
      "low_bwght\n",
      "0    0.8\n",
      "1    0.2\n",
      "Name: proportion, dtype: float64\n",
      "\n",
      "\n",
      "\n",
      "Response Variable Proportions (Testing Set)\n",
      "--------------------------------------------\n",
      "low_bwght\n",
      "0    0.81\n",
      "1    0.19\n",
      "Name: proportion, dtype: float64\n",
      "\n"
     ]
    }
   ],
   "source": [
    "print(f\"\"\"\n",
    "\n",
    "Response Variable Proportions (Training Set)\n",
    "--------------------------------------------\n",
    "{y_train.value_counts(normalize = True).round(decimals = 2)}\n",
    "\n",
    "\n",
    "\n",
    "Response Variable Proportions (Testing Set)\n",
    "--------------------------------------------\n",
    "{y_test.value_counts(normalize = True).round(decimals = 2)}\n",
    "\"\"\")"
   ]
  },
  {
   "cell_type": "code",
   "execution_count": 26,
   "id": "6f334e15",
   "metadata": {},
   "outputs": [
    {
     "name": "stdout",
     "output_type": "stream",
     "text": [
      " mage + \n",
      " meduc + \n",
      " monpre + \n",
      " npvis + \n",
      " fage + \n",
      " feduc + \n",
      " cigs + \n",
      " drink + \n",
      " male + \n",
      " mwhte + \n",
      " mblck + \n",
      " moth + \n",
      " fwhte + \n",
      " fblck + \n",
      " foth + \n",
      " mage_cigs_interaction + \n",
      " fage_group_<20 + \n",
      " fage_group_20-30 + \n",
      " fage_group_30-40 + \n",
      " fage_group_40plus + \n",
      " mage_group_<20 + \n",
      " mage_group_20-30 + \n",
      " mage_group_30-40 + \n",
      " mage_group_40plus + \n",
      " parents_education_avg + \n",
      " smokes + \n",
      " drinks + \n",
      " smoke_and_drink + \n"
     ]
    }
   ],
   "source": [
    "for val in bwght_data:\n",
    "    print(f\" {val} + \")"
   ]
  },
  {
   "cell_type": "code",
   "execution_count": 27,
   "id": "a730e15f",
   "metadata": {},
   "outputs": [
    {
     "name": "stdout",
     "output_type": "stream",
     "text": [
      "Optimization terminated successfully.\n",
      "         Current function value: 0.464144\n",
      "         Iterations 6\n"
     ]
    },
    {
     "data": {
      "text/html": [
       "<table class=\"simpletable\">\n",
       "<tr>\n",
       "        <td>Model:</td>              <td>Logit</td>           <td>Method:</td>         <td>MLE</td>  \n",
       "</tr>\n",
       "<tr>\n",
       "  <td>Dependent Variable:</td>     <td>low_bwght</td>    <td>Pseudo R-squared:</td>   <td>0.062</td> \n",
       "</tr>\n",
       "<tr>\n",
       "         <td>Date:</td>        <td>2024-04-06 14:42</td>       <td>AIC:</td>        <td>302.0559</td>\n",
       "</tr>\n",
       "<tr>\n",
       "   <td>No. Observations:</td>         <td>306</td>             <td>BIC:</td>        <td>335.5682</td>\n",
       "</tr>\n",
       "<tr>\n",
       "       <td>Df Model:</td>              <td>8</td>         <td>Log-Likelihood:</td>   <td>-142.03</td>\n",
       "</tr>\n",
       "<tr>\n",
       "     <td>Df Residuals:</td>           <td>297</td>           <td>LL-Null:</td>       <td>-151.44</td>\n",
       "</tr>\n",
       "<tr>\n",
       "      <td>Converged:</td>           <td>1.0000</td>        <td>LLR p-value:</td>    <td>0.015775</td>\n",
       "</tr>\n",
       "<tr>\n",
       "    <td>No. Iterations:</td>        <td>6.0000</td>           <td>Scale:</td>        <td>1.0000</td> \n",
       "</tr>\n",
       "</table>\n",
       "<table class=\"simpletable\">\n",
       "<tr>\n",
       "             <td></td>             <th>Coef.</th>  <th>Std.Err.</th>    <th>z</th>     <th>P>|z|</th> <th>[0.025</th>  <th>0.975]</th> \n",
       "</tr>\n",
       "<tr>\n",
       "  <th>Intercept</th>              <td>1.0464</td>   <td>1.4135</td>  <td>0.7403</td>  <td>0.4591</td> <td>-1.7241</td> <td>3.8168</td> \n",
       "</tr>\n",
       "<tr>\n",
       "  <th>monpre</th>                 <td>-0.3243</td>  <td>0.1465</td>  <td>-2.2136</td> <td>0.0269</td> <td>-0.6114</td> <td>-0.0372</td>\n",
       "</tr>\n",
       "<tr>\n",
       "  <th>npvis</th>                  <td>-0.1353</td>  <td>0.0502</td>  <td>-2.6921</td> <td>0.0071</td> <td>-0.2338</td> <td>-0.0368</td>\n",
       "</tr>\n",
       "<tr>\n",
       "  <th>male</th>                   <td>-0.4585</td>  <td>0.3031</td>  <td>-1.5124</td> <td>0.1304</td> <td>-1.0526</td> <td>0.1357</td> \n",
       "</tr>\n",
       "<tr>\n",
       "  <th>mage_cigs_interaction</th>  <td>-0.0029</td>  <td>0.0027</td>  <td>-1.0683</td> <td>0.2854</td> <td>-0.0081</td> <td>0.0024</td> \n",
       "</tr>\n",
       "<tr>\n",
       "  <th>Q('fage_group_40plus')</th> <td>-1.0313</td>  <td>0.6491</td>  <td>-1.5887</td> <td>0.1121</td> <td>-2.3036</td> <td>0.2410</td> \n",
       "</tr>\n",
       "<tr>\n",
       "  <th>Q('mage_group_30-40')</th>  <td>0.4552</td>   <td>0.3147</td>  <td>1.4461</td>  <td>0.1481</td> <td>-0.1617</td> <td>1.0720</td> \n",
       "</tr>\n",
       "<tr>\n",
       "  <th>parents_education_avg</th>  <td>-0.0131</td>  <td>0.0878</td>  <td>-0.1487</td> <td>0.8818</td> <td>-0.1852</td> <td>0.1591</td> \n",
       "</tr>\n",
       "<tr>\n",
       "  <th>smokes</th>                 <td>0.9435</td>   <td>1.0193</td>  <td>0.9256</td>  <td>0.3546</td> <td>-1.0543</td> <td>2.9414</td> \n",
       "</tr>\n",
       "</table><br/>\n"
      ],
      "text/latex": [
       "\\begin{table}\n",
       "\\caption{Results: Logit}\n",
       "\\label{}\n",
       "\\begin{center}\n",
       "\\begin{tabular}{llll}\n",
       "\\hline\n",
       "Model:              & Logit            & Method:           & MLE       \\\\\n",
       "Dependent Variable: & low\\_bwght       & Pseudo R-squared: & 0.062     \\\\\n",
       "Date:               & 2024-04-06 14:42 & AIC:              & 302.0559  \\\\\n",
       "No. Observations:   & 306              & BIC:              & 335.5682  \\\\\n",
       "Df Model:           & 8                & Log-Likelihood:   & -142.03   \\\\\n",
       "Df Residuals:       & 297              & LL-Null:          & -151.44   \\\\\n",
       "Converged:          & 1.0000           & LLR p-value:      & 0.015775  \\\\\n",
       "No. Iterations:     & 6.0000           & Scale:            & 1.0000    \\\\\n",
       "\\hline\n",
       "\\end{tabular}\n",
       "\\end{center}\n",
       "\n",
       "\\begin{center}\n",
       "\\begin{tabular}{lrrrrrr}\n",
       "\\hline\n",
       "                         &   Coef. & Std.Err. &       z & P$> |$z$|$ &  [0.025 &  0.975]  \\\\\n",
       "\\hline\n",
       "Intercept                &  1.0464 &   1.4135 &  0.7403 &      0.4591 & -1.7241 &  3.8168  \\\\\n",
       "monpre                   & -0.3243 &   0.1465 & -2.2136 &      0.0269 & -0.6114 & -0.0372  \\\\\n",
       "npvis                    & -0.1353 &   0.0502 & -2.6921 &      0.0071 & -0.2338 & -0.0368  \\\\\n",
       "male                     & -0.4585 &   0.3031 & -1.5124 &      0.1304 & -1.0526 &  0.1357  \\\\\n",
       "mage\\_cigs\\_interaction  & -0.0029 &   0.0027 & -1.0683 &      0.2854 & -0.0081 &  0.0024  \\\\\n",
       "Q('fage\\_group\\_40plus') & -1.0313 &   0.6491 & -1.5887 &      0.1121 & -2.3036 &  0.2410  \\\\\n",
       "Q('mage\\_group\\_30-40')  &  0.4552 &   0.3147 &  1.4461 &      0.1481 & -0.1617 &  1.0720  \\\\\n",
       "parents\\_education\\_avg  & -0.0131 &   0.0878 & -0.1487 &      0.8818 & -0.1852 &  0.1591  \\\\\n",
       "smokes                   &  0.9435 &   1.0193 &  0.9256 &      0.3546 & -1.0543 &  2.9414  \\\\\n",
       "\\hline\n",
       "\\end{tabular}\n",
       "\\end{center}\n",
       "\\end{table}\n",
       "\\bigskip\n"
      ],
      "text/plain": [
       "<class 'statsmodels.iolib.summary2.Summary'>\n",
       "\"\"\"\n",
       "                            Results: Logit\n",
       "======================================================================\n",
       "Model:                 Logit              Method:             MLE     \n",
       "Dependent Variable:    low_bwght          Pseudo R-squared:   0.062   \n",
       "Date:                  2024-04-06 14:42   AIC:                302.0559\n",
       "No. Observations:      306                BIC:                335.5682\n",
       "Df Model:              8                  Log-Likelihood:     -142.03 \n",
       "Df Residuals:          297                LL-Null:            -151.44 \n",
       "Converged:             1.0000             LLR p-value:        0.015775\n",
       "No. Iterations:        6.0000             Scale:              1.0000  \n",
       "----------------------------------------------------------------------\n",
       "                        Coef.  Std.Err.    z    P>|z|   [0.025  0.975]\n",
       "----------------------------------------------------------------------\n",
       "Intercept               1.0464   1.4135  0.7403 0.4591 -1.7241  3.8168\n",
       "monpre                 -0.3243   0.1465 -2.2136 0.0269 -0.6114 -0.0372\n",
       "npvis                  -0.1353   0.0502 -2.6921 0.0071 -0.2338 -0.0368\n",
       "male                   -0.4585   0.3031 -1.5124 0.1304 -1.0526  0.1357\n",
       "mage_cigs_interaction  -0.0029   0.0027 -1.0683 0.2854 -0.0081  0.0024\n",
       "Q('fage_group_40plus') -1.0313   0.6491 -1.5887 0.1121 -2.3036  0.2410\n",
       "Q('mage_group_30-40')   0.4552   0.3147  1.4461 0.1481 -0.1617  1.0720\n",
       "parents_education_avg  -0.0131   0.0878 -0.1487 0.8818 -0.1852  0.1591\n",
       "smokes                  0.9435   1.0193  0.9256 0.3546 -1.0543  2.9414\n",
       "======================================================================\n",
       "\n",
       "\"\"\""
      ]
     },
     "execution_count": 27,
     "metadata": {},
     "output_type": "execute_result"
    }
   ],
   "source": [
    "# instantiating a logistic regression model object\n",
    "logistic_small = smf.logit(formula = \"\"\"\n",
    "low_bwght ~ monpre + \n",
    "npvis +  \n",
    "male + \n",
    "mage_cigs_interaction +  \n",
    "Q('fage_group_40plus') + \n",
    "Q('mage_group_30-40') +\n",
    "parents_education_avg+\n",
    "smokes\n",
    "\"\"\", data = bwght_train)\n",
    "\n",
    "\n",
    "# fitting the model object\n",
    "results_logistic = logistic_small.fit()\n",
    "\n",
    "\n",
    "# checking the results SUMMARY\n",
    "results_logistic.summary2() # summary2() has AIC and BIC"
   ]
  },
  {
   "cell_type": "markdown",
   "id": "29112d84",
   "metadata": {},
   "source": [
    "With P-values of 0.0269 and 0.0071, respectively, the logit model output indicates that the timing of prenatal care (monpre) and the number of prenatal visits (npvis) are significant in predicting low birth weight. Birth outcomes appear to be influenced by these factors, with early and regular care being crucial. P-values above the 0.05 cut off indicate that the baby's gender (male), fathers' age groups (fage_group_40plus and fage_group_30_40), parents' average education (parents_education_avg), and parental age interactions with smoking (mage_cigs_interaction) are not significant predictors in this model. Furthermore lacking statistical significance is the mother's smoking status (smoke). Although this model demonstrates that not all predicted components are statistically significant, P-values below 0.05 often indicate significant predictors."
   ]
  },
  {
   "cell_type": "code",
   "execution_count": 28,
   "id": "26bb525d",
   "metadata": {},
   "outputs": [],
   "source": [
    "# creating a dictionary to store candidate models\n",
    "\n",
    "\n",
    "candidate_dict = {\n",
    "\n",
    " # full model\n",
    " 'logit_full'   : ['monpre','npvis', 'male','mage_cigs_interaction','fage_group_40plus','mage_group_30-40','parents_education_avg','smokes'],\n",
    " # p-value significant variables only\n",
    " 'logit_sig'  : ['monpre', 'npvis']\n",
    " \n",
    "}\n"
   ]
  },
  {
   "cell_type": "code",
   "execution_count": 29,
   "id": "dc3621a4",
   "metadata": {},
   "outputs": [
    {
     "data": {
      "text/html": [
       "<div>\n",
       "<style scoped>\n",
       "    .dataframe tbody tr th:only-of-type {\n",
       "        vertical-align: middle;\n",
       "    }\n",
       "\n",
       "    .dataframe tbody tr th {\n",
       "        vertical-align: top;\n",
       "    }\n",
       "\n",
       "    .dataframe thead th {\n",
       "        text-align: right;\n",
       "    }\n",
       "</style>\n",
       "<table border=\"1\" class=\"dataframe\">\n",
       "  <thead>\n",
       "    <tr style=\"text-align: right;\">\n",
       "      <th></th>\n",
       "      <th>mage</th>\n",
       "      <th>meduc</th>\n",
       "      <th>monpre</th>\n",
       "      <th>npvis</th>\n",
       "      <th>fage</th>\n",
       "      <th>feduc</th>\n",
       "      <th>cigs</th>\n",
       "      <th>drink</th>\n",
       "      <th>male</th>\n",
       "      <th>mwhte</th>\n",
       "      <th>...</th>\n",
       "      <th>fage_group_30-40</th>\n",
       "      <th>fage_group_40plus</th>\n",
       "      <th>mage_group_&lt;20</th>\n",
       "      <th>mage_group_20-30</th>\n",
       "      <th>mage_group_30-40</th>\n",
       "      <th>mage_group_40plus</th>\n",
       "      <th>parents_education_avg</th>\n",
       "      <th>smokes</th>\n",
       "      <th>drinks</th>\n",
       "      <th>smoke_and_drink</th>\n",
       "    </tr>\n",
       "  </thead>\n",
       "  <tbody>\n",
       "    <tr>\n",
       "      <th>0</th>\n",
       "      <td>-0.361492</td>\n",
       "      <td>-0.761169</td>\n",
       "      <td>-0.165141</td>\n",
       "      <td>-0.416957</td>\n",
       "      <td>-0.202130</td>\n",
       "      <td>1.406394</td>\n",
       "      <td>-0.269856</td>\n",
       "      <td>-0.071442</td>\n",
       "      <td>-0.978232</td>\n",
       "      <td>0.381652</td>\n",
       "      <td>...</td>\n",
       "      <td>0.973457</td>\n",
       "      <td>-0.324662</td>\n",
       "      <td>-0.181186</td>\n",
       "      <td>0.931440</td>\n",
       "      <td>-0.851903</td>\n",
       "      <td>-0.111249</td>\n",
       "      <td>0.387133</td>\n",
       "      <td>-0.310668</td>\n",
       "      <td>-0.099381</td>\n",
       "      <td>-0.304873</td>\n",
       "    </tr>\n",
       "    <tr>\n",
       "      <th>1</th>\n",
       "      <td>-1.728666</td>\n",
       "      <td>-0.761169</td>\n",
       "      <td>-0.915613</td>\n",
       "      <td>-1.469643</td>\n",
       "      <td>-1.835949</td>\n",
       "      <td>-0.837035</td>\n",
       "      <td>-0.269856</td>\n",
       "      <td>-0.071442</td>\n",
       "      <td>-0.978232</td>\n",
       "      <td>0.381652</td>\n",
       "      <td>...</td>\n",
       "      <td>-1.027266</td>\n",
       "      <td>-0.324662</td>\n",
       "      <td>-0.181186</td>\n",
       "      <td>0.931440</td>\n",
       "      <td>-0.851903</td>\n",
       "      <td>-0.111249</td>\n",
       "      <td>-0.904362</td>\n",
       "      <td>-0.310668</td>\n",
       "      <td>-0.099381</td>\n",
       "      <td>-0.304873</td>\n",
       "    </tr>\n",
       "    <tr>\n",
       "      <th>2</th>\n",
       "      <td>-0.556802</td>\n",
       "      <td>0.634876</td>\n",
       "      <td>-0.165141</td>\n",
       "      <td>-0.153785</td>\n",
       "      <td>-0.038748</td>\n",
       "      <td>0.957708</td>\n",
       "      <td>-0.269856</td>\n",
       "      <td>-0.071442</td>\n",
       "      <td>1.022252</td>\n",
       "      <td>0.381652</td>\n",
       "      <td>...</td>\n",
       "      <td>0.973457</td>\n",
       "      <td>-0.324662</td>\n",
       "      <td>-0.181186</td>\n",
       "      <td>0.931440</td>\n",
       "      <td>-0.851903</td>\n",
       "      <td>-0.111249</td>\n",
       "      <td>0.903730</td>\n",
       "      <td>-0.310668</td>\n",
       "      <td>-0.099381</td>\n",
       "      <td>-0.304873</td>\n",
       "    </tr>\n",
       "    <tr>\n",
       "      <th>3</th>\n",
       "      <td>0.615061</td>\n",
       "      <td>1.565572</td>\n",
       "      <td>-0.915613</td>\n",
       "      <td>2.214760</td>\n",
       "      <td>1.104925</td>\n",
       "      <td>1.406394</td>\n",
       "      <td>-0.269856</td>\n",
       "      <td>-0.071442</td>\n",
       "      <td>-0.978232</td>\n",
       "      <td>-2.620188</td>\n",
       "      <td>...</td>\n",
       "      <td>0.973457</td>\n",
       "      <td>-0.324662</td>\n",
       "      <td>-0.181186</td>\n",
       "      <td>-1.073607</td>\n",
       "      <td>1.173843</td>\n",
       "      <td>-0.111249</td>\n",
       "      <td>1.678627</td>\n",
       "      <td>-0.310668</td>\n",
       "      <td>-0.099381</td>\n",
       "      <td>-0.304873</td>\n",
       "    </tr>\n",
       "    <tr>\n",
       "      <th>4</th>\n",
       "      <td>0.029129</td>\n",
       "      <td>0.634876</td>\n",
       "      <td>-0.165141</td>\n",
       "      <td>0.109387</td>\n",
       "      <td>0.614779</td>\n",
       "      <td>0.957708</td>\n",
       "      <td>-0.269856</td>\n",
       "      <td>-0.071442</td>\n",
       "      <td>1.022252</td>\n",
       "      <td>0.381652</td>\n",
       "      <td>...</td>\n",
       "      <td>0.973457</td>\n",
       "      <td>-0.324662</td>\n",
       "      <td>-0.181186</td>\n",
       "      <td>0.931440</td>\n",
       "      <td>-0.851903</td>\n",
       "      <td>-0.111249</td>\n",
       "      <td>0.903730</td>\n",
       "      <td>-0.310668</td>\n",
       "      <td>-0.099381</td>\n",
       "      <td>-0.304873</td>\n",
       "    </tr>\n",
       "  </tbody>\n",
       "</table>\n",
       "<p>5 rows × 28 columns</p>\n",
       "</div>"
      ],
      "text/plain": [
       "       mage     meduc    monpre     npvis      fage     feduc      cigs  \\\n",
       "0 -0.361492 -0.761169 -0.165141 -0.416957 -0.202130  1.406394 -0.269856   \n",
       "1 -1.728666 -0.761169 -0.915613 -1.469643 -1.835949 -0.837035 -0.269856   \n",
       "2 -0.556802  0.634876 -0.165141 -0.153785 -0.038748  0.957708 -0.269856   \n",
       "3  0.615061  1.565572 -0.915613  2.214760  1.104925  1.406394 -0.269856   \n",
       "4  0.029129  0.634876 -0.165141  0.109387  0.614779  0.957708 -0.269856   \n",
       "\n",
       "      drink      male     mwhte  ...  fage_group_30-40  fage_group_40plus  \\\n",
       "0 -0.071442 -0.978232  0.381652  ...          0.973457          -0.324662   \n",
       "1 -0.071442 -0.978232  0.381652  ...         -1.027266          -0.324662   \n",
       "2 -0.071442  1.022252  0.381652  ...          0.973457          -0.324662   \n",
       "3 -0.071442 -0.978232 -2.620188  ...          0.973457          -0.324662   \n",
       "4 -0.071442  1.022252  0.381652  ...          0.973457          -0.324662   \n",
       "\n",
       "   mage_group_<20  mage_group_20-30  mage_group_30-40  mage_group_40plus  \\\n",
       "0       -0.181186          0.931440         -0.851903          -0.111249   \n",
       "1       -0.181186          0.931440         -0.851903          -0.111249   \n",
       "2       -0.181186          0.931440         -0.851903          -0.111249   \n",
       "3       -0.181186         -1.073607          1.173843          -0.111249   \n",
       "4       -0.181186          0.931440         -0.851903          -0.111249   \n",
       "\n",
       "   parents_education_avg    smokes    drinks  smoke_and_drink  \n",
       "0               0.387133 -0.310668 -0.099381        -0.304873  \n",
       "1              -0.904362 -0.310668 -0.099381        -0.304873  \n",
       "2               0.903730 -0.310668 -0.099381        -0.304873  \n",
       "3               1.678627 -0.310668 -0.099381        -0.304873  \n",
       "4               0.903730 -0.310668 -0.099381        -0.304873  \n",
       "\n",
       "[5 rows x 28 columns]"
      ]
     },
     "execution_count": 29,
     "metadata": {},
     "output_type": "execute_result"
    }
   ],
   "source": [
    "# # standardizing the x-features\n",
    "x_data_st = standard_scaler(df = bwght_data)\n",
    "\n",
    "\n",
    "# # checking results\n",
    "x_data_st.head(n = 5)"
   ]
  },
  {
   "cell_type": "code",
   "execution_count": 30,
   "id": "2bfdc53f",
   "metadata": {},
   "outputs": [],
   "source": [
    "# # train/test split with the full model\n",
    "bwght_data   = x_data_st[candidate_dict['logit_full']]\n",
    "bwght_target = df['low_bwght']\n",
    "\n",
    "\n",
    "# # this is the exact code we were using before\n",
    "x_train, x_test, y_train, y_test = train_test_split(\n",
    "             bwght_data,\n",
    "             bwght_target,\n",
    "             random_state = 702,\n",
    "             test_size    = 0.25,\n",
    "             stratify     = bwght_target)"
   ]
  },
  {
   "cell_type": "markdown",
   "id": "def59f4c",
   "metadata": {},
   "source": [
    "<h2><strong>Candidate Model Development <strong>"
   ]
  },
  {
   "cell_type": "markdown",
   "id": "b8df6471",
   "metadata": {},
   "source": [
    "<strong>LogisticRegression <strong>"
   ]
  },
  {
   "cell_type": "code",
   "execution_count": 31,
   "id": "533ae230",
   "metadata": {},
   "outputs": [
    {
     "name": "stdout",
     "output_type": "stream",
     "text": [
      "Training ACCURACY: 0.8007\n",
      "Testing  ACCURACY: 0.8058\n",
      "Train-Test Gap   : 0.0051\n",
      "\n"
     ]
    }
   ],
   "source": [
    "# INSTANTIATING model\n",
    "model = sklearn.linear_model.LogisticRegression(solver = 'lbfgs',\n",
    "                                                 C = 1,\n",
    "                                                 random_state = 702)\n",
    "\n",
    "\n",
    "# FITTING the training data\n",
    "logreg_fit = model.fit(x_train, y_train)\n",
    "\n",
    "\n",
    "# PREDICTING based on the testing set\n",
    "logreg_pred = logreg_fit.predict(x_test)\n",
    "\n",
    "# saving scoring data for future use\n",
    "train_score = round(logreg_fit.score(x_train, y_train), ndigits = 4) # train accuracy\n",
    "test_score  = round(logreg_fit.score(x_test, y_test),   ndigits = 4) # test accuracy\n",
    "tt_gap      = round(abs(train_score - test_score),      ndigits = 4) # gap\n",
    "\n",
    "# displaying and saving the gap between training and testing\n",
    "print(f\"\"\"\\\n",
    "Training ACCURACY: {train_score}\n",
    "Testing  ACCURACY: {test_score}\n",
    "Train-Test Gap   : {tt_gap}\n",
    "\"\"\") "
   ]
  },
  {
   "cell_type": "code",
   "execution_count": 32,
   "id": "e66bb9fa",
   "metadata": {},
   "outputs": [
    {
     "name": "stdout",
     "output_type": "stream",
     "text": [
      "[[83  0]\n",
      " [20  0]]\n"
     ]
    }
   ],
   "source": [
    "# creating a confusion matrix\n",
    "print(confusion_matrix(y_true = y_test,\n",
    "                       y_pred = logreg_pred))"
   ]
  },
  {
   "cell_type": "code",
   "execution_count": 33,
   "id": "28ddb29b",
   "metadata": {},
   "outputs": [
    {
     "name": "stdout",
     "output_type": "stream",
     "text": [
      "\n",
      "True Negatives : 83\n",
      "False Positives: 0\n",
      "False Negatives: 20\n",
      "True Positives : 0\n",
      "\n"
     ]
    }
   ],
   "source": [
    "# unpacking the confusion matrix\n",
    "logreg_tn, \\\n",
    "logreg_fp, \\\n",
    "logreg_fn, \\\n",
    "logreg_tp = confusion_matrix(y_true = y_test, y_pred = logreg_pred).ravel()\n",
    "\n",
    "\n",
    "# printing each result one-by-one\n",
    "print(f\"\"\"\n",
    "True Negatives : {logreg_tn}\n",
    "False Positives: {logreg_fp}\n",
    "False Negatives: {logreg_fn}\n",
    "True Positives : {logreg_tp}\n",
    "\"\"\")"
   ]
  },
  {
   "cell_type": "code",
   "execution_count": 34,
   "id": "b223ef2b",
   "metadata": {},
   "outputs": [
    {
     "name": "stdout",
     "output_type": "stream",
     "text": [
      "AUC:       0.5\n",
      "Precision: 0.0\n",
      "Recall:    0.0\n",
      "\n"
     ]
    }
   ],
   "source": [
    "# preparing AUC, precision, and recall\n",
    "auc       = round(roc_auc_score(y_true = y_test, y_score = logreg_pred) , ndigits = 4)\n",
    "precision = round(precision_score(y_true = y_test, y_pred = logreg_pred), ndigits = 4)\n",
    "recall    = round(recall_score(y_true = y_test, y_pred = logreg_pred)   , ndigits = 4)\n",
    "\n",
    "\n",
    "# dynamically printing metrics\n",
    "print(f\"\"\"\\\n",
    "AUC:       {auc}\n",
    "Precision: {precision}\n",
    "Recall:    {recall}\n",
    "\"\"\")"
   ]
  },
  {
   "cell_type": "code",
   "execution_count": 35,
   "id": "d84e5a28",
   "metadata": {},
   "outputs": [
    {
     "data": {
      "text/html": [
       "<div>\n",
       "<style scoped>\n",
       "    .dataframe tbody tr th:only-of-type {\n",
       "        vertical-align: middle;\n",
       "    }\n",
       "\n",
       "    .dataframe tbody tr th {\n",
       "        vertical-align: top;\n",
       "    }\n",
       "\n",
       "    .dataframe thead th {\n",
       "        text-align: right;\n",
       "    }\n",
       "</style>\n",
       "<table border=\"1\" class=\"dataframe\">\n",
       "  <thead>\n",
       "    <tr style=\"text-align: right;\">\n",
       "      <th></th>\n",
       "      <th>Class 0</th>\n",
       "      <th>Class 1</th>\n",
       "    </tr>\n",
       "  </thead>\n",
       "  <tbody>\n",
       "    <tr>\n",
       "      <th>0</th>\n",
       "      <td>0.80</td>\n",
       "      <td>0.20</td>\n",
       "    </tr>\n",
       "    <tr>\n",
       "      <th>1</th>\n",
       "      <td>0.65</td>\n",
       "      <td>0.35</td>\n",
       "    </tr>\n",
       "    <tr>\n",
       "      <th>2</th>\n",
       "      <td>0.81</td>\n",
       "      <td>0.19</td>\n",
       "    </tr>\n",
       "    <tr>\n",
       "      <th>3</th>\n",
       "      <td>0.91</td>\n",
       "      <td>0.09</td>\n",
       "    </tr>\n",
       "    <tr>\n",
       "      <th>4</th>\n",
       "      <td>0.83</td>\n",
       "      <td>0.17</td>\n",
       "    </tr>\n",
       "    <tr>\n",
       "      <th>5</th>\n",
       "      <td>0.81</td>\n",
       "      <td>0.19</td>\n",
       "    </tr>\n",
       "    <tr>\n",
       "      <th>6</th>\n",
       "      <td>0.81</td>\n",
       "      <td>0.19</td>\n",
       "    </tr>\n",
       "    <tr>\n",
       "      <th>7</th>\n",
       "      <td>0.82</td>\n",
       "      <td>0.18</td>\n",
       "    </tr>\n",
       "    <tr>\n",
       "      <th>8</th>\n",
       "      <td>0.87</td>\n",
       "      <td>0.13</td>\n",
       "    </tr>\n",
       "    <tr>\n",
       "      <th>9</th>\n",
       "      <td>0.80</td>\n",
       "      <td>0.20</td>\n",
       "    </tr>\n",
       "  </tbody>\n",
       "</table>\n",
       "</div>"
      ],
      "text/plain": [
       "   Class 0  Class 1\n",
       "0     0.80     0.20\n",
       "1     0.65     0.35\n",
       "2     0.81     0.19\n",
       "3     0.91     0.09\n",
       "4     0.83     0.17\n",
       "5     0.81     0.19\n",
       "6     0.81     0.19\n",
       "7     0.82     0.18\n",
       "8     0.87     0.13\n",
       "9     0.80     0.20"
      ]
     },
     "execution_count": 35,
     "metadata": {},
     "output_type": "execute_result"
    }
   ],
   "source": [
    "# printing the predicted probabilities of 0 and 1, respectively\n",
    "pd.DataFrame(data = logreg_fit.predict_proba(bwght_data).round(decimals = 2),\n",
    "             columns = ['Class 0', 'Class 1']).head(n = 10)"
   ]
  },
  {
   "cell_type": "markdown",
   "id": "d189b505",
   "metadata": {},
   "source": [
    "<strong>Random Forest Classification<strong>"
   ]
  },
  {
   "cell_type": "code",
   "execution_count": 36,
   "id": "045fdcc9",
   "metadata": {},
   "outputs": [],
   "source": [
    "# INSTANTIATING model\n",
    "model     = RandomForestClassifier(n_estimators     = 100,\n",
    "                                    criterion        = 'gini',\n",
    "                                    max_depth        = None,\n",
    "                                    min_samples_leaf = 1,\n",
    "                                    bootstrap        = True,\n",
    "                                    warm_start       = False,\n",
    "                                    random_state     = 702)"
   ]
  },
  {
   "cell_type": "code",
   "execution_count": 37,
   "id": "873e1e3b",
   "metadata": {},
   "outputs": [
    {
     "name": "stdout",
     "output_type": "stream",
     "text": [
      "Training ACCURACY: 0.9575\n",
      "Testing  ACCURACY: 0.7184\n",
      "AUC Score        : 0.5217\n"
     ]
    }
   ],
   "source": [
    "# FITTING the training data\n",
    "rf_default_fit = model.fit(x_train, y_train)\n",
    "\n",
    "\n",
    "# PREDICTING based on the testing set\n",
    "rf_default_fit_pred = rf_default_fit.predict(x_test)\n",
    "\n",
    "\n",
    "# SCORING the results\n",
    "print('Training ACCURACY:', round(rf_default_fit.score(x_train, y_train), ndigits = 4))\n",
    "print('Testing  ACCURACY:', round(rf_default_fit.score(x_test , y_test ), ndigits = 4))\n",
    "\n",
    "\n",
    "# saving AUC score\n",
    "print('AUC Score        :', round(roc_auc_score(y_true  = y_test,\n",
    "                                                y_score = rf_default_fit_pred), ndigits = 4))"
   ]
  },
  {
   "cell_type": "code",
   "execution_count": 38,
   "id": "48f17066",
   "metadata": {},
   "outputs": [
    {
     "name": "stdout",
     "output_type": "stream",
     "text": [
      "\n",
      "True Negatives : 70\n",
      "False Positives: 13\n",
      "False Negatives: 16\n",
      "True Positives : 4\n",
      "\n"
     ]
    }
   ],
   "source": [
    "# unpacking the confusion matrix\n",
    "rf_tn, \\\n",
    "rf_fp, \\\n",
    "rf_fn, \\\n",
    "rf_tp = confusion_matrix(y_true = y_test, y_pred = rf_default_fit_pred).ravel()\n",
    "\n",
    "\n",
    "# printing each result one-by-one\n",
    "print(f\"\"\"\n",
    "True Negatives : {rf_tn}\n",
    "False Positives: {rf_fp}\n",
    "False Negatives: {rf_fn}\n",
    "True Positives : {rf_tp}\n",
    "\"\"\")"
   ]
  },
  {
   "cell_type": "code",
   "execution_count": 39,
   "id": "616dc53a",
   "metadata": {},
   "outputs": [
    {
     "name": "stdout",
     "output_type": "stream",
     "text": [
      "AUC :0.5217\n",
      "Precision: 0.2353\n",
      "Recall:    0.2\n",
      "\n"
     ]
    }
   ],
   "source": [
    "# preparing AUC, precision, and recall\n",
    "auc       = round(roc_auc_score(y_true = y_test, y_score = rf_default_fit_pred) , ndigits = 4)\n",
    "precision = round(precision_score(y_true=y_test, y_pred=rf_default_fit_pred), ndigits=4)\n",
    "recall = round(recall_score(y_true=y_test, y_pred=rf_default_fit_pred), ndigits=4)\n",
    "\n",
    "# printing each result one-by-one\n",
    "print(f\"\"\"\\\n",
    "AUC :{auc}\n",
    "Precision: {precision}\n",
    "Recall:    {recall}\n",
    "\"\"\")"
   ]
  },
  {
   "cell_type": "markdown",
   "id": "77163ce4",
   "metadata": {},
   "source": [
    "<strong>Ridge Classification (Final Model)<strong>"
   ]
  },
  {
   "cell_type": "code",
   "execution_count": 40,
   "id": "c08651d6",
   "metadata": {},
   "outputs": [
    {
     "name": "stdout",
     "output_type": "stream",
     "text": [
      "Training ACCURACY: 0.8007\n",
      "Testing  ACCURACY: 0.8058\n",
      "AUC Score        : 0.5\n"
     ]
    }
   ],
   "source": [
    "######## Final Model########\n",
    "# INSTANTIATING model\n",
    "model     = RidgeClassifier(alpha=1.0, \n",
    "                            solver='auto', \n",
    "                            random_state=702)\n",
    "# FITTING the training data\n",
    "model_fit = model.fit(x_train, y_train)\n",
    "\n",
    "\n",
    "# PREDICTING based on the testing set\n",
    "model_fit_pred = model_fit.predict(x_test)\n",
    "\n",
    "\n",
    "# SCORING the results\n",
    "print('Training ACCURACY:', round(model_fit.score(x_train, y_train), ndigits = 4))\n",
    "print('Testing  ACCURACY:', round(model_fit.score(x_test , y_test ), ndigits = 4))\n",
    "\n",
    "\n",
    "# saving AUC score\n",
    "print('AUC Score        :', round(roc_auc_score(y_true  = y_test,\n",
    "                                                y_score = model_fit_pred), ndigits = 4))"
   ]
  },
  {
   "cell_type": "code",
   "execution_count": 41,
   "id": "15d78e36",
   "metadata": {},
   "outputs": [
    {
     "name": "stdout",
     "output_type": "stream",
     "text": [
      "\n",
      "True Negatives : 83\n",
      "False Positives: 0\n",
      "False Negatives: 20\n",
      "True Positives : 0\n",
      "\n"
     ]
    }
   ],
   "source": [
    "# unpacking the confusion matrix\n",
    "tn, \\\n",
    "fp, \\\n",
    "fn, \\\n",
    "tp = confusion_matrix(y_true = y_test,\n",
    "                               y_pred = model_fit_pred).ravel()\n",
    "\n",
    "\n",
    "# printing each result one-by-one\n",
    "print(f\"\"\"\n",
    "True Negatives : {tn}\n",
    "False Positives: {fp}\n",
    "False Negatives: {fn}\n",
    "True Positives : {tp}\n",
    "\"\"\")"
   ]
  },
  {
   "cell_type": "code",
   "execution_count": 42,
   "id": "608f11f4",
   "metadata": {},
   "outputs": [
    {
     "name": "stdout",
     "output_type": "stream",
     "text": [
      "Tuned Parameters  : {'solver': 'saga', 'alpha': 78.47599703514607}\n",
      "Tuned Training AUC: 0.5435\n"
     ]
    }
   ],
   "source": [
    "# instantiating a hyperparameter space\n",
    "alpha_range = np.logspace(-4, 4, 20)  \n",
    "solver_range = ['auto', 'svd', 'cholesky', 'lsqr', 'sparse_cg', 'sag', 'saga'] \n",
    "\n",
    "\n",
    "# creating a hyperparameter grid\n",
    "param_distributions = {\n",
    "    'alpha': alpha_range,\n",
    "    'solver': solver_range\n",
    "}\n",
    "\n",
    "\n",
    "# INSTANTIATING the model object without hyperparameters\n",
    "ridge_model = RidgeClassifier(random_state=702)\n",
    "\n",
    "# GridSearchCV object\n",
    "ridge_cv = RandomizedSearchCV(estimator=ridge_model,\n",
    "                              param_distributions=param_distributions,\n",
    "                              cv=5,  \n",
    "                              n_iter=10,  \n",
    "                              scoring=make_scorer(roc_auc_score, needs_threshold=True),\n",
    "                              random_state=702)\n",
    "\n",
    "\n",
    "\n",
    "# FITTING to the FULL DATASET (due to cross-validation)\n",
    "ridge_cv.fit(bwght_data, bwght_target)\n",
    "\n",
    "\n",
    "\n",
    "# printing the optimal parameters and best score\n",
    "print(\"Tuned Parameters  :\", ridge_cv.best_params_)\n",
    "print(\"Tuned Training AUC:\", ridge_cv.best_score_.round(4))\n",
    "\n",
    "#'solver': 'saga', 'alpha': 78.47599703514607"
   ]
  },
  {
   "cell_type": "code",
   "execution_count": 43,
   "id": "606ce5fc",
   "metadata": {},
   "outputs": [
    {
     "data": {
      "text/html": [
       "<style>#sk-container-id-1 {color: black;}#sk-container-id-1 pre{padding: 0;}#sk-container-id-1 div.sk-toggleable {background-color: white;}#sk-container-id-1 label.sk-toggleable__label {cursor: pointer;display: block;width: 100%;margin-bottom: 0;padding: 0.3em;box-sizing: border-box;text-align: center;}#sk-container-id-1 label.sk-toggleable__label-arrow:before {content: \"▸\";float: left;margin-right: 0.25em;color: #696969;}#sk-container-id-1 label.sk-toggleable__label-arrow:hover:before {color: black;}#sk-container-id-1 div.sk-estimator:hover label.sk-toggleable__label-arrow:before {color: black;}#sk-container-id-1 div.sk-toggleable__content {max-height: 0;max-width: 0;overflow: hidden;text-align: left;background-color: #f0f8ff;}#sk-container-id-1 div.sk-toggleable__content pre {margin: 0.2em;color: black;border-radius: 0.25em;background-color: #f0f8ff;}#sk-container-id-1 input.sk-toggleable__control:checked~div.sk-toggleable__content {max-height: 200px;max-width: 100%;overflow: auto;}#sk-container-id-1 input.sk-toggleable__control:checked~label.sk-toggleable__label-arrow:before {content: \"▾\";}#sk-container-id-1 div.sk-estimator input.sk-toggleable__control:checked~label.sk-toggleable__label {background-color: #d4ebff;}#sk-container-id-1 div.sk-label input.sk-toggleable__control:checked~label.sk-toggleable__label {background-color: #d4ebff;}#sk-container-id-1 input.sk-hidden--visually {border: 0;clip: rect(1px 1px 1px 1px);clip: rect(1px, 1px, 1px, 1px);height: 1px;margin: -1px;overflow: hidden;padding: 0;position: absolute;width: 1px;}#sk-container-id-1 div.sk-estimator {font-family: monospace;background-color: #f0f8ff;border: 1px dotted black;border-radius: 0.25em;box-sizing: border-box;margin-bottom: 0.5em;}#sk-container-id-1 div.sk-estimator:hover {background-color: #d4ebff;}#sk-container-id-1 div.sk-parallel-item::after {content: \"\";width: 100%;border-bottom: 1px solid gray;flex-grow: 1;}#sk-container-id-1 div.sk-label:hover label.sk-toggleable__label {background-color: #d4ebff;}#sk-container-id-1 div.sk-serial::before {content: \"\";position: absolute;border-left: 1px solid gray;box-sizing: border-box;top: 0;bottom: 0;left: 50%;z-index: 0;}#sk-container-id-1 div.sk-serial {display: flex;flex-direction: column;align-items: center;background-color: white;padding-right: 0.2em;padding-left: 0.2em;position: relative;}#sk-container-id-1 div.sk-item {position: relative;z-index: 1;}#sk-container-id-1 div.sk-parallel {display: flex;align-items: stretch;justify-content: center;background-color: white;position: relative;}#sk-container-id-1 div.sk-item::before, #sk-container-id-1 div.sk-parallel-item::before {content: \"\";position: absolute;border-left: 1px solid gray;box-sizing: border-box;top: 0;bottom: 0;left: 50%;z-index: -1;}#sk-container-id-1 div.sk-parallel-item {display: flex;flex-direction: column;z-index: 1;position: relative;background-color: white;}#sk-container-id-1 div.sk-parallel-item:first-child::after {align-self: flex-end;width: 50%;}#sk-container-id-1 div.sk-parallel-item:last-child::after {align-self: flex-start;width: 50%;}#sk-container-id-1 div.sk-parallel-item:only-child::after {width: 0;}#sk-container-id-1 div.sk-dashed-wrapped {border: 1px dashed gray;margin: 0 0.4em 0.5em 0.4em;box-sizing: border-box;padding-bottom: 0.4em;background-color: white;}#sk-container-id-1 div.sk-label label {font-family: monospace;font-weight: bold;display: inline-block;line-height: 1.2em;}#sk-container-id-1 div.sk-label-container {text-align: center;}#sk-container-id-1 div.sk-container {/* jupyter's `normalize.less` sets `[hidden] { display: none; }` but bootstrap.min.css set `[hidden] { display: none !important; }` so we also need the `!important` here to be able to override the default hidden behavior on the sphinx rendered scikit-learn.org. See: https://github.com/scikit-learn/scikit-learn/issues/21755 */display: inline-block !important;position: relative;}#sk-container-id-1 div.sk-text-repr-fallback {display: none;}</style><div id=\"sk-container-id-1\" class=\"sk-top-container\"><div class=\"sk-text-repr-fallback\"><pre>RidgeClassifier(alpha=78.47599703514607, random_state=702, solver=&#x27;saga&#x27;)</pre><b>In a Jupyter environment, please rerun this cell to show the HTML representation or trust the notebook. <br />On GitHub, the HTML representation is unable to render, please try loading this page with nbviewer.org.</b></div><div class=\"sk-container\" hidden><div class=\"sk-item\"><div class=\"sk-estimator sk-toggleable\"><input class=\"sk-toggleable__control sk-hidden--visually\" id=\"sk-estimator-id-1\" type=\"checkbox\" checked><label for=\"sk-estimator-id-1\" class=\"sk-toggleable__label sk-toggleable__label-arrow\">RidgeClassifier</label><div class=\"sk-toggleable__content\"><pre>RidgeClassifier(alpha=78.47599703514607, random_state=702, solver=&#x27;saga&#x27;)</pre></div></div></div></div></div>"
      ],
      "text/plain": [
       "RidgeClassifier(alpha=78.47599703514607, random_state=702, solver='saga')"
      ]
     },
     "execution_count": 43,
     "metadata": {},
     "output_type": "execute_result"
    }
   ],
   "source": [
    "# best estimators based on ridge\n",
    "ridge_cv.best_estimator_"
   ]
  },
  {
   "cell_type": "code",
   "execution_count": 44,
   "id": "69b85a93",
   "metadata": {},
   "outputs": [
    {
     "name": "stdout",
     "output_type": "stream",
     "text": [
      "Training ACCURACY: 0.8039\n",
      "Testing  ACCURACY: 0.8058\n",
      "AUC Score        : 0.5\n"
     ]
    }
   ],
   "source": [
    "# building a model based on hyperparameter tuning results\n",
    "\n",
    "# INSTANTIATING with best_estimator\n",
    "model = RidgeClassifier(alpha=78.47599703514607,  \n",
    "                        solver='saga',\n",
    "                        random_state=702)\n",
    "\n",
    "\n",
    "# FITTING to the FULL DATASET (due to cross-validation)\n",
    "ridge_tuned_fit = model.fit(bwght_data, bwght_target)\n",
    "\n",
    "\n",
    "# PREDICTING on the testing set\n",
    "ridge_tuned_pred = ridge_tuned_fit.predict(x_test)\n",
    "\n",
    "\n",
    "# saving scoring data for future use\n",
    "ridge_tuned_train_score = round(model.score(x_train, y_train), 4)\n",
    "ridge_tuned_test_score = round(model.score(x_test, y_test), 4)\n",
    "\n",
    "\n",
    "# SCORING the results\n",
    "print('Training ACCURACY:', round(ridge_tuned_fit.score(x_train, y_train),\n",
    "                                  ndigits = 4))\n",
    "\n",
    "\n",
    "print('Testing  ACCURACY:', round(ridge_tuned_fit.score(x_test, y_test),\n",
    "                                  ndigits = 4))\n",
    "\n",
    "\n",
    "print('AUC Score        :', round(roc_auc_score(y_true  = y_test,\n",
    "                                                y_score = ridge_tuned_pred),\n",
    "                                  ndigits = 4))\n"
   ]
  },
  {
   "cell_type": "code",
   "execution_count": 45,
   "id": "23bd773c",
   "metadata": {},
   "outputs": [
    {
     "name": "stdout",
     "output_type": "stream",
     "text": [
      "\n",
      "True Negatives : 83\n",
      "False Positives: 0\n",
      "False Negatives: 20\n",
      "True Positives : 0\n",
      "\n"
     ]
    }
   ],
   "source": [
    "# unpacking the confusion matrix\n",
    "ridge_tuned_tn, \\\n",
    "ridge_tuned_fp, \\\n",
    "ridge_tuned_fn, \\\n",
    "ridge_tuned_tp = confusion_matrix(y_true = y_test,\n",
    "                               y_pred = ridge_tuned_pred).ravel()\n",
    "\n",
    "\n",
    "# printing each result one-by-one\n",
    "print(f\"\"\"\n",
    "True Negatives : {ridge_tuned_tn}\n",
    "False Positives: {ridge_tuned_fp}\n",
    "False Negatives: {ridge_tuned_fn}\n",
    "True Positives : {ridge_tuned_tp}\n",
    "\"\"\")"
   ]
  },
  {
   "cell_type": "code",
   "execution_count": 46,
   "id": "86c6f6aa",
   "metadata": {},
   "outputs": [
    {
     "name": "stdout",
     "output_type": "stream",
     "text": [
      "AUC :0.5\n",
      "Precision: 0.0\n",
      "Recall:    0.0\n",
      "\n"
     ]
    }
   ],
   "source": [
    "# preparing AUC, precision, and recall\n",
    "auc = round(roc_auc_score(y_true  = y_test,y_score = ridge_tuned_pred), 4)\n",
    "precision = round(precision_score(y_true=y_test, y_pred=ridge_tuned_pred), 4)\n",
    "recall = round(recall_score(y_true=y_test, y_pred=ridge_tuned_pred), 4)\n",
    "\n",
    "\n",
    "\n",
    "print(f\"\"\"\\\n",
    "AUC :{auc}\n",
    "Precision: {precision}\n",
    "Recall:    {recall}\n",
    "\"\"\")"
   ]
  },
  {
   "cell_type": "markdown",
   "id": "be880b81",
   "metadata": {},
   "source": [
    "<strong>GBM Classification<strong>"
   ]
  },
  {
   "cell_type": "code",
   "execution_count": 47,
   "id": "80ace82e",
   "metadata": {},
   "outputs": [
    {
     "name": "stdout",
     "output_type": "stream",
     "text": [
      "Training ACCURACY: 0.8824\n",
      "Testing ACCURACY : 0.7864\n",
      "AUC Score        : 0.5828\n"
     ]
    }
   ],
   "source": [
    "# INSTANTIATING model\n",
    "model = GradientBoostingClassifier(loss          = 'log_loss',\n",
    "                                   learning_rate = 0.1,\n",
    "                                   n_estimators  = 100,\n",
    "                                   criterion     = 'friedman_mse',\n",
    "                                   max_depth     = 3,\n",
    "                                   warm_start    = False,\n",
    "                                   random_state  = 702)\n",
    "\n",
    "\n",
    "# FITTING to the training data\n",
    "full_gbm_def_fit = model.fit(x_train, y_train)\n",
    "\n",
    "\n",
    "# PREDICTING based on the testing set\n",
    "full_gbm_def_pred = full_gbm_def_fit.predict(x_test)\n",
    "\n",
    "\n",
    "# SCORING the results\n",
    "print('Training ACCURACY:', round(full_gbm_def_fit.score(x_train, y_train),\n",
    "                                  ndigits = 4))\n",
    "      \n",
    "print('Testing ACCURACY :', round(full_gbm_def_fit.score(x_test, y_test),\n",
    "                                  ndigits = 4))\n",
    "      \n",
    "print('AUC Score        :', round(roc_auc_score(y_true  = y_test,\n",
    "                                                y_score = full_gbm_def_pred),\n",
    "                                  ndigits = 4))"
   ]
  },
  {
   "cell_type": "code",
   "execution_count": 48,
   "id": "4171fa21",
   "metadata": {},
   "outputs": [
    {
     "name": "stdout",
     "output_type": "stream",
     "text": [
      "\n",
      "True Negatives : 76\n",
      "False Positives: 7\n",
      "False Negatives: 15\n",
      "True Positives : 5\n",
      "\n"
     ]
    }
   ],
   "source": [
    "# unpacking the confusion matrix\n",
    "gbm_def_tn, \\\n",
    "gbm_def_fp, \\\n",
    "gbm_def_fn, \\\n",
    "gbm_def_tp = confusion_matrix(y_true = y_test, y_pred = full_gbm_def_pred).ravel()\n",
    "\n",
    "\n",
    "# printing each result one-by-one\n",
    "print(f\"\"\"\n",
    "True Negatives : {gbm_def_tn}\n",
    "False Positives: {gbm_def_fp}\n",
    "False Negatives: {gbm_def_fn}\n",
    "True Positives : {gbm_def_tp}\n",
    "\"\"\")"
   ]
  },
  {
   "cell_type": "code",
   "execution_count": 49,
   "id": "e27e50f5",
   "metadata": {},
   "outputs": [
    {
     "data": {
      "image/png": "[encoded data removed]",
      "text/plain": [
       "<Figure size 1200x900 with 1 Axes>"
      ]
     },
     "metadata": {},
     "output_type": "display_data"
    }
   ],
   "source": [
    "# plotting feature importances\n",
    "plot_feature_importances(full_gbm_def_fit,\n",
    "                         train = x_train,\n",
    "                         export = False)"
   ]
  },
  {
   "cell_type": "markdown",
   "id": "5cebaebd",
   "metadata": {},
   "source": [
    "In the feature importance plot from the Gradient Boosting Classifier, 'npvis' emerges as the most influential variable, underscoring the critical role of prenatal visit frequency in predicting low birth weight. Following closely, 'parents_education_avg' marks its significance, pointing to the combined educational level of the parents as a key factor. Additionally, 'monpre' takes a notable position, indicating that the timing of prenatal care initiation is an important predictive element. The visual length of the bars conveys the relative importance of each feature, with these three collectively having a substantial impact on the model's predictive accuracy for birth weight outcomes."
   ]
  },
  {
   "cell_type": "code",
   "execution_count": 50,
   "id": "2aaca35c",
   "metadata": {},
   "outputs": [
    {
     "name": "stdout",
     "output_type": "stream",
     "text": [
      "Tuned Parameters  : {'warm_start': False, 'n_estimators': 100, 'max_depth': 2, 'learning_rate': 1.6}\n",
      "Tuned Training AUC: 0.5406\n"
     ]
    }
   ],
   "source": [
    "# instantiating a hyperparameter space\n",
    "learn_range        = np.arange(0.1, 2.2, 0.5)\n",
    "estimator_range    = np.arange(50, 301, 50)\n",
    "depth_range        = np.arange(2, 7, 1)\n",
    "warm_start_range   = [True, False]\n",
    "\n",
    "# creating a hyperparameter grid\n",
    "param_grid = {'learning_rate' : learn_range,\n",
    "              'max_depth'     : depth_range,\n",
    "              'n_estimators'  : estimator_range,\n",
    "              'warm_start'    : warm_start_range}\n",
    "\n",
    "\n",
    "# INSTANTIATING the model object without hyperparameters\n",
    "full_gbm_grid = GradientBoostingClassifier(random_state = 702)\n",
    "\n",
    "\n",
    "# GridSearchCV object\n",
    "full_gbm_cv = RandomizedSearchCV(estimator     = full_gbm_grid,\n",
    "                           param_distributions = param_grid,\n",
    "                           cv                  = 3,\n",
    "                           n_iter              = 20,\n",
    "                           random_state        = 702,\n",
    "                           scoring             = make_scorer(roc_auc_score,\n",
    "                                                 needs_threshold = False))\n",
    "\n",
    "\n",
    "# FITTING to the FULL DATASET (due to cross-validation)\n",
    "full_gbm_cv.fit(bwght_data, bwght_target)\n",
    "\n",
    "\n",
    "# PREDICT step is not needed\n",
    "\n",
    "\n",
    "# printing the optimal parameters and best score\n",
    "print(\"Tuned Parameters  :\", full_gbm_cv.best_params_)\n",
    "print(\"Tuned Training AUC:\", full_gbm_cv.best_score_.round(4))\n",
    "\n",
    "#'warm_start': False, 'n_estimators': 100, 'max_depth': 2, 'learning_rate': 1.6"
   ]
  },
  {
   "cell_type": "code",
   "execution_count": 51,
   "id": "d6038d99",
   "metadata": {},
   "outputs": [
    {
     "data": {
      "text/html": [
       "<style>#sk-container-id-2 {color: black;}#sk-container-id-2 pre{padding: 0;}#sk-container-id-2 div.sk-toggleable {background-color: white;}#sk-container-id-2 label.sk-toggleable__label {cursor: pointer;display: block;width: 100%;margin-bottom: 0;padding: 0.3em;box-sizing: border-box;text-align: center;}#sk-container-id-2 label.sk-toggleable__label-arrow:before {content: \"▸\";float: left;margin-right: 0.25em;color: #696969;}#sk-container-id-2 label.sk-toggleable__label-arrow:hover:before {color: black;}#sk-container-id-2 div.sk-estimator:hover label.sk-toggleable__label-arrow:before {color: black;}#sk-container-id-2 div.sk-toggleable__content {max-height: 0;max-width: 0;overflow: hidden;text-align: left;background-color: #f0f8ff;}#sk-container-id-2 div.sk-toggleable__content pre {margin: 0.2em;color: black;border-radius: 0.25em;background-color: #f0f8ff;}#sk-container-id-2 input.sk-toggleable__control:checked~div.sk-toggleable__content {max-height: 200px;max-width: 100%;overflow: auto;}#sk-container-id-2 input.sk-toggleable__control:checked~label.sk-toggleable__label-arrow:before {content: \"▾\";}#sk-container-id-2 div.sk-estimator input.sk-toggleable__control:checked~label.sk-toggleable__label {background-color: #d4ebff;}#sk-container-id-2 div.sk-label input.sk-toggleable__control:checked~label.sk-toggleable__label {background-color: #d4ebff;}#sk-container-id-2 input.sk-hidden--visually {border: 0;clip: rect(1px 1px 1px 1px);clip: rect(1px, 1px, 1px, 1px);height: 1px;margin: -1px;overflow: hidden;padding: 0;position: absolute;width: 1px;}#sk-container-id-2 div.sk-estimator {font-family: monospace;background-color: #f0f8ff;border: 1px dotted black;border-radius: 0.25em;box-sizing: border-box;margin-bottom: 0.5em;}#sk-container-id-2 div.sk-estimator:hover {background-color: #d4ebff;}#sk-container-id-2 div.sk-parallel-item::after {content: \"\";width: 100%;border-bottom: 1px solid gray;flex-grow: 1;}#sk-container-id-2 div.sk-label:hover label.sk-toggleable__label {background-color: #d4ebff;}#sk-container-id-2 div.sk-serial::before {content: \"\";position: absolute;border-left: 1px solid gray;box-sizing: border-box;top: 0;bottom: 0;left: 50%;z-index: 0;}#sk-container-id-2 div.sk-serial {display: flex;flex-direction: column;align-items: center;background-color: white;padding-right: 0.2em;padding-left: 0.2em;position: relative;}#sk-container-id-2 div.sk-item {position: relative;z-index: 1;}#sk-container-id-2 div.sk-parallel {display: flex;align-items: stretch;justify-content: center;background-color: white;position: relative;}#sk-container-id-2 div.sk-item::before, #sk-container-id-2 div.sk-parallel-item::before {content: \"\";position: absolute;border-left: 1px solid gray;box-sizing: border-box;top: 0;bottom: 0;left: 50%;z-index: -1;}#sk-container-id-2 div.sk-parallel-item {display: flex;flex-direction: column;z-index: 1;position: relative;background-color: white;}#sk-container-id-2 div.sk-parallel-item:first-child::after {align-self: flex-end;width: 50%;}#sk-container-id-2 div.sk-parallel-item:last-child::after {align-self: flex-start;width: 50%;}#sk-container-id-2 div.sk-parallel-item:only-child::after {width: 0;}#sk-container-id-2 div.sk-dashed-wrapped {border: 1px dashed gray;margin: 0 0.4em 0.5em 0.4em;box-sizing: border-box;padding-bottom: 0.4em;background-color: white;}#sk-container-id-2 div.sk-label label {font-family: monospace;font-weight: bold;display: inline-block;line-height: 1.2em;}#sk-container-id-2 div.sk-label-container {text-align: center;}#sk-container-id-2 div.sk-container {/* jupyter's `normalize.less` sets `[hidden] { display: none; }` but bootstrap.min.css set `[hidden] { display: none !important; }` so we also need the `!important` here to be able to override the default hidden behavior on the sphinx rendered scikit-learn.org. See: https://github.com/scikit-learn/scikit-learn/issues/21755 */display: inline-block !important;position: relative;}#sk-container-id-2 div.sk-text-repr-fallback {display: none;}</style><div id=\"sk-container-id-2\" class=\"sk-top-container\"><div class=\"sk-text-repr-fallback\"><pre>GradientBoostingClassifier(learning_rate=1.6, max_depth=2, random_state=702)</pre><b>In a Jupyter environment, please rerun this cell to show the HTML representation or trust the notebook. <br />On GitHub, the HTML representation is unable to render, please try loading this page with nbviewer.org.</b></div><div class=\"sk-container\" hidden><div class=\"sk-item\"><div class=\"sk-estimator sk-toggleable\"><input class=\"sk-toggleable__control sk-hidden--visually\" id=\"sk-estimator-id-2\" type=\"checkbox\" checked><label for=\"sk-estimator-id-2\" class=\"sk-toggleable__label sk-toggleable__label-arrow\">GradientBoostingClassifier</label><div class=\"sk-toggleable__content\"><pre>GradientBoostingClassifier(learning_rate=1.6, max_depth=2, random_state=702)</pre></div></div></div></div></div>"
      ],
      "text/plain": [
       "GradientBoostingClassifier(learning_rate=1.6, max_depth=2, random_state=702)"
      ]
     },
     "execution_count": 51,
     "metadata": {},
     "output_type": "execute_result"
    }
   ],
   "source": [
    "# checking the best estimator for the model\n",
    "full_gbm_cv.best_estimator_"
   ]
  },
  {
   "cell_type": "code",
   "execution_count": 52,
   "id": "6165d35b",
   "metadata": {},
   "outputs": [
    {
     "name": "stdout",
     "output_type": "stream",
     "text": [
      "Training ACCURACY: 0.817\n",
      "Testing  ACCURACY: 0.8155\n",
      "AUC Score        : 0.525\n"
     ]
    }
   ],
   "source": [
    "# INSTANTIATING with best_estimator\n",
    "model = GradientBoostingClassifier(learning_rate = 1.6,\n",
    "                                    max_depth     = 2,\n",
    "                                    n_estimators  = 100,\n",
    "                                    warm_start    = False,\n",
    "                                    random_state  = 702)\n",
    "\n",
    "\n",
    "# FITTING to the FULL DATASET (due to cross-validation)\n",
    "gbm_tuned_fit = model.fit(bwght_data, bwght_target)\n",
    "\n",
    "\n",
    "# PREDICTING based on the testing set\n",
    "gbm_tuned_pred = gbm_tuned_fit.predict(x_test)\n",
    "\n",
    "\n",
    "# SCORING the results\n",
    "print('Training ACCURACY:', round(gbm_tuned_fit.score(x_train, y_train),\n",
    "                                  ndigits = 4))\n",
    "\n",
    "\n",
    "print('Testing  ACCURACY:', round(gbm_tuned_fit.score(x_test, y_test),\n",
    "                                  ndigits = 4))\n",
    "\n",
    "\n",
    "print('AUC Score        :', round(roc_auc_score(y_true  = y_test,\n",
    "                                                y_score = gbm_tuned_pred),\n",
    "                                  ndigits = 4))\n"
   ]
  },
  {
   "cell_type": "code",
   "execution_count": 53,
   "id": "38b097db",
   "metadata": {},
   "outputs": [
    {
     "data": {
      "image/png": "[encoded data removed]",
      "text/plain": [
       "<Figure size 1200x900 with 1 Axes>"
      ]
     },
     "metadata": {},
     "output_type": "display_data"
    }
   ],
   "source": [
    "# plotting feature importances\n",
    "plot_feature_importances(gbm_tuned_fit,\n",
    "                         train = x_train,\n",
    "                         export = False)"
   ]
  },
  {
   "cell_type": "markdown",
   "id": "490997de",
   "metadata": {},
   "source": [
    "In the optimized Gradient Boosting Classifier model, 'npvis' retains its position as the most impactful feature for predicting low birth weight, which highlights the importance of the number of prenatal visits. 'Monpre' has surged in significance, indicating the model's increased weighting on the timing of prenatal care initiation. Compared to these two features, the impact of others is markedly less, underlining their relative insignificance in this particular predictive framework. The bar lengths in the chart are telling, with 'npvis' leading significantly and 'monpre'. Following as a substantial but second-most important factor, emphasizing their pivotal roles after model fine-tuning."
   ]
  },
  {
   "cell_type": "code",
   "execution_count": 54,
   "id": "889fc13d",
   "metadata": {},
   "outputs": [
    {
     "name": "stdout",
     "output_type": "stream",
     "text": [
      "\n",
      "True Negatives : 83\n",
      "False Positives: 0\n",
      "False Negatives: 19\n",
      "True Positives : 1\n",
      "\n"
     ]
    }
   ],
   "source": [
    "# unpacking the confusion matrix\n",
    "gbm_tuned_tn, \\\n",
    "gbm_tuned_fp, \\\n",
    "gbm_tuned_fn, \\\n",
    "gbm_tuned_tp = confusion_matrix(y_true = y_test, y_pred = gbm_tuned_pred).ravel()\n",
    "\n",
    "\n",
    "# printing each result one-by-one\n",
    "print(f\"\"\"\n",
    "True Negatives : {gbm_tuned_tn}\n",
    "False Positives: {gbm_tuned_fp}\n",
    "False Negatives: {gbm_tuned_fn}\n",
    "True Positives : {gbm_tuned_tp}\n",
    "\"\"\")"
   ]
  },
  {
   "cell_type": "code",
   "execution_count": 55,
   "id": "7d0ceea7",
   "metadata": {},
   "outputs": [
    {
     "name": "stdout",
     "output_type": "stream",
     "text": [
      "AUC :0.525\n",
      "Precision: 1.0\n",
      "Recall:    0.05\n",
      "\n"
     ]
    }
   ],
   "source": [
    "# preparing AUC, precision, and recall\n",
    "auc = round(roc_auc_score(y_true=y_test, y_score=gbm_tuned_pred), 4)\n",
    "precision = round(precision_score(y_true=y_test, y_pred=gbm_tuned_pred), 4)\n",
    "recall = round(recall_score(y_true=y_test, y_pred=gbm_tuned_pred), 4)\n",
    "\n",
    "\n",
    "# printing each result one-by-one\n",
    "print(f\"\"\"\\\n",
    "AUC :{auc}\n",
    "Precision: {precision}\n",
    "Recall:    {recall}\n",
    "\"\"\")"
   ]
  },
  {
   "cell_type": "markdown",
   "id": "37c260fe",
   "metadata": {},
   "source": [
    "4.Which two features in your machine learning model had the largest impact on birthweight? Present one actionable insight for each of these. \n",
    "\n",
    "In the provided machine learning model（ logit model output & GradientBoostingClassifier tuned plot_feature_importances), the month of pregnancy that prenatal care began (monpre) and the total number of prenatal visits (npvis) emerge as the features with the largest impact on birth weight. Both features carry significant P-values of 0.0269 and 0.0071, respectively, indicating strong evidence against the null hypothesis and thus affirming their relevance in predicting low birth weight.\n",
    "\n",
    "The 'monpre' feature highlights the importance of the timing of prenatal care initiation. An actionable insight from this data is that early initiation of prenatal care is crucial. Pregnant individuals should be encouraged to seek prenatal care as soon as they become aware of their pregnancy. This early intervention allows for the timely identification and management of any health risks that could contribute to low birth weight, potentially improving outcomes for newborns. By prioritizing early prenatal visits, healthcare providers can offer critical guidance and support, helping to mitigate factors that lead to low birthweight.(Alexander & Korenbrot, 1995)\n",
    "\n",
    "The number of prenatal visits, denoted as 'npvis' in our model, emerges as a critical determinant in the prediction of birth weight. This finding aligns with a study conducted in northeastern Brazil, where women with fewer than four prenatal visits had significantly higher odds of delivering low birth weight and preterm infants (Teixeira et al., 2022). Our model suggests a similar trend, underscoring the importance of adequate prenatal care. Consequently, healthcare interventions should prioritize encouraging consistent prenatal appointments. While the typical range of prenatal visits is 10 to 15 (Price, 2015), our analysis indicates that increased visit frequency could be a marker of proactive health measures taken in response to fetal health risks identified early in the pregnancy, such as potential low birth weight. To optimize prenatal care's impact on preventing low birth weight, reminder systems and support networks could be established to ensure that pregnant women adhere to their checkup schedules, facilitating timely interventions and improving overall neonatal health outcomes. This strategic approach not only serves as a preventive measure but also as a vital component of early intervention to address potential health concerns.(Novoa, 2020)\n",
    "\n",
    "These insights highlight the importance of proactive and ongoing involvement in prenatal care, with a focus on interventions at various stages of the prenatal journey. The first insight emphasizes the need of starting prenatal care as early as possible to guarantee a good start, and the second emphasizes the relevance of continuing prenatal appointments on a regular basis to ensure an optimal pregnancy outcome."
   ]
  },
  {
   "cell_type": "markdown",
   "id": "03c3d984",
   "metadata": {},
   "source": [
    "5.Present your final model's confusion matrix and explain what each error means (false positives and false negatives). Furthermore, explain which error is being controlled for given the cohort's focus on correctly predicting low birthweight, as well as why this error is more important to control than the other error.\n",
    "\n",
    "The confusion matrix for Ridge regression model shows 83 true negatives (TN), meaning 83 cases were correctly identified as not having low birthweight. There were 20 false negatives (FN), where the model incorrectly predicted normal birthweight when, in fact, the babies had low birthweight. There were no false positives (FP), meaning the model did not incorrectly predict any cases as low birthweight when they were not. Importantly, there were no true positives (TP), meaning the model failed to correctly identify any cases of low birthweight.\n",
    "Considering the emphasis on forecasting low birthweight, it is imperative to account for false negatives. False negative results indicate lost chances to give at-risk babies early support and intervention. If the model's predictions were correct, they may have the most effects in these situations. On the other hand, false positives do not carry the same risk of unfavorable outcomes if left untreated, even though they can cause needless stress and procedures. \n",
    "Therefore, the cost of a false negative is usually regarded as larger than a false positive in the context of healthcare, especially for vulnerable groups like infants. The model needs to be further refined, maybe by adding additional relevant characteristics or modifying the threshold to make the model more sensitive to cases of low birthweight. This is shown by the model's inability to identify true positives."
   ]
  },
  {
   "cell_type": "code",
   "execution_count": 56,
   "id": "6fa858aa",
   "metadata": {},
   "outputs": [],
   "source": [
    "# x_features = ['monpre','npvis', 'male','mage_cigs_interaction','fage_group_40plus','mage_group_30-40','parents_education_avg','smokes']\n",
    "\n",
    "# y_variable = \"low_bwght\"\n",
    "\n",
    "# # x-data\n",
    "# x_data_kaggle = kaggle_data[x_features].copy()\n",
    "\n",
    "# # y-data\n",
    "# y_data_kaggle = kaggle_data[y_variable]\n",
    "\n",
    "# # Fitting model from above to the Kaggle test data\n",
    "# kaggle_predictions = model.predict(x_data_kaggle)\n",
    "\n",
    "\n",
    "# # organizing predictions\n",
    "# model_predictions = {\"low_bwght\" : kaggle_predictions}\n",
    "\n",
    "\n",
    "# # converting predictions into df\n",
    "# model_pred_df = pd.DataFrame(data  = model_predictions,\n",
    "#                              index = df_test.index)\n",
    "# # ## Kaggle Submission File ##\n",
    "\n",
    "# # sending predictions to .csv\n",
    "# model_pred_df.to_csv(path_or_buf = \"/Users/Vivi/Downloads/ RIDGE Final.csv\",\n",
    "#                      index       = True,\n",
    "#                     index_label = 'bwt_id')"
   ]
  },
  {
   "cell_type": "markdown",
   "id": "8b2058f3",
   "metadata": {},
   "source": [
    "References\n",
    "Alexander, G. R., & Korenbrot, C. C. (1995). The Role of Prenatal Care in Preventing Low Birth Weight. The Future of Children, 5(1), 103–120. https://doi.org/10.2307/1602510default - Stanford Children’s Health. (n.d.). Www.stanfordchildrens.org. https://www.stanfordchildrens.org/en/topic/default?id=low-birth-weight-90-P02382Di, H.-K., Gan, Y., Lu, K., Wang, C., Zhu, Y., Meng, X., Xia, W.-Q., Xu, M.-Z., Feng, J., Tian, Q.-F., He, Y., Nie, Z.-Q., Liu, J.-A., Song, F.-J., & Lu, Z.-X. (2022). Maternal smoking status during pregnancy and low birth weight in offspring: systematic review and meta-analysis of 55 cohort studies published from 1986 to 2020. World Journal of Pediatrics, 18, 176–185. https://doi.org/10.1007/s12519-021-00501-5Günther, V., Alkatout, I., Vollmer, C., Maass, N., Strauss, A., & Voigt, M. (2021). Impact of nicotine and maternal BMI on fetal birth weight. BMC Pregnancy and Childbirth, 21(1). https://doi.org/10.1186/s12884-021-03593-zNovoa, C. (2020, January 31). Ensuring Healthy Births Through Prenatal Support. Center for American Progress. https://www.americanprogress.org/article/ensuring-healthy-births-prenatal-support/Price, S. (2015, June 4). What’s the Cost of Prenatal Care? ValuePenguin; ValuePenguin. https://www.valuepenguin.com/cost-prenatal-care-health-insuranceReichman, N. E., & Teitler, J. O. (2006). Paternal Age as a Risk Factor for Low Birthweight. American Journal of Public Health, 96(5), 862–866. https://doi.org/10.2105/ajph.2005.066324Sema, A., Tesfaye, F., Belay, Y., Amsalu, B., Bekele, D., & Desalew, A. (2019). Associated Factors with Low Birth Weight in Dire Dawa City, Eastern Ethiopia: A Cross-Sectional Study. BioMed Research International, 2019, 1–8. https://doi.org/10.1155/2019/2965094Teixeira, G. A., Holanda, N. S. O., Azevedo, I. G., Moura, J. R., de Carvalho, J. B. L., & Pereira, S. A. (2022). Factors Associated with Number of Prenatal Visits in Northeastern Brazil: A Cross-Sectional Study. International Journal of Environmental Research and Public Health, 19(22), 14912. https://doi.org/10.3390/ijerph192214912World Health Organization. (2023). Low birth weight. Www.who.int. https://www.who.int/data/nutrition/nlis/info/low-birth-weight"
   ]
  }
 ],
 "metadata": {
  "kernelspec": {
   "display_name": "Python 3 (ipykernel)",
   "language": "python",
   "name": "python3"
  },
  "language_info": {
   "codemirror_mode": {
    "name": "ipython",
    "version": 3
   },
   "file_extension": ".py",
   "mimetype": "text/x-python",
   "name": "python",
   "nbconvert_exporter": "python",
   "pygments_lexer": "ipython3",
   "version": "3.11.5"
  },
  "toc": {
   "base_numbering": 1,
   "nav_menu": {},
   "number_sections": true,
   "sideBar": true,
   "skip_h1_title": false,
   "title_cell": "Table of Contents",
   "title_sidebar": "Contents",
   "toc_cell": false,
   "toc_position": {},
   "toc_section_display": true,
   "toc_window_display": false
  },
  "varInspector": {
   "cols": {
    "lenName": 16,
    "lenType": 16,
    "lenVar": 40
   },
   "kernels_config": {
    "python": {
     "delete_cmd_postfix": "",
     "delete_cmd_prefix": "del ",
     "library": "var_list.py",
     "varRefreshCmd": "print(var_dic_list())"
    },
    "r": {
     "delete_cmd_postfix": ") ",
     "delete_cmd_prefix": "rm(",
     "library": "var_list.r",
     "varRefreshCmd": "cat(var_dic_list()) "
    }
   },
   "types_to_exclude": [
    "module",
    "function",
    "builtin_function_or_method",
    "instance",
    "_Feature"
   ],
   "window_display": false
  }
 },
 "nbformat": 4,
 "nbformat_minor": 5
}
